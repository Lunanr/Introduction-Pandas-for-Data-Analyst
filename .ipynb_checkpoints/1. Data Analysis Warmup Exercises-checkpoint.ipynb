{
 "cells": [
  {
   "cell_type": "code",
   "execution_count": 1,
   "id": "f33495dc-16a0-4198-af9f-0b45aa3f8007",
   "metadata": {},
   "outputs": [],
   "source": [
    "import pandas as pd"
   ]
  },
  {
   "cell_type": "code",
   "execution_count": 3,
   "id": "911e94c3-00f5-4765-a9fa-fc6ec076ca74",
   "metadata": {},
   "outputs": [
    {
     "data": {
      "text/html": [
       "<div>\n",
       "<style scoped>\n",
       "    .dataframe tbody tr th:only-of-type {\n",
       "        vertical-align: middle;\n",
       "    }\n",
       "\n",
       "    .dataframe tbody tr th {\n",
       "        vertical-align: top;\n",
       "    }\n",
       "\n",
       "    .dataframe thead th {\n",
       "        text-align: right;\n",
       "    }\n",
       "</style>\n",
       "<table border=\"1\" class=\"dataframe\">\n",
       "  <thead>\n",
       "    <tr style=\"text-align: right;\">\n",
       "      <th></th>\n",
       "      <th>Name</th>\n",
       "      <th>Score</th>\n",
       "      <th>Gender</th>\n",
       "    </tr>\n",
       "  </thead>\n",
       "  <tbody>\n",
       "    <tr>\n",
       "      <th>0</th>\n",
       "      <td>Luthfi</td>\n",
       "      <td>90</td>\n",
       "      <td>Male</td>\n",
       "    </tr>\n",
       "    <tr>\n",
       "      <th>1</th>\n",
       "      <td>Adnan</td>\n",
       "      <td>89</td>\n",
       "      <td>Female</td>\n",
       "    </tr>\n",
       "    <tr>\n",
       "      <th>2</th>\n",
       "      <td>Rahman</td>\n",
       "      <td>80</td>\n",
       "      <td>Male</td>\n",
       "    </tr>\n",
       "    <tr>\n",
       "      <th>3</th>\n",
       "      <td>Tyo</td>\n",
       "      <td>99</td>\n",
       "      <td>Male</td>\n",
       "    </tr>\n",
       "    <tr>\n",
       "      <th>4</th>\n",
       "      <td>Abiyyu</td>\n",
       "      <td>87</td>\n",
       "      <td>Female</td>\n",
       "    </tr>\n",
       "    <tr>\n",
       "      <th>5</th>\n",
       "      <td>Raditya</td>\n",
       "      <td>83</td>\n",
       "      <td>Female</td>\n",
       "    </tr>\n",
       "    <tr>\n",
       "      <th>6</th>\n",
       "      <td>Naufal</td>\n",
       "      <td>95</td>\n",
       "      <td>Male</td>\n",
       "    </tr>\n",
       "  </tbody>\n",
       "</table>\n",
       "</div>"
      ],
      "text/plain": [
       "      Name  Score  Gender\n",
       "0   Luthfi     90    Male\n",
       "1    Adnan     89  Female\n",
       "2   Rahman     80    Male\n",
       "3      Tyo     99    Male\n",
       "4   Abiyyu     87  Female\n",
       "5  Raditya     83  Female\n",
       "6   Naufal     95    Male"
      ]
     },
     "execution_count": 3,
     "metadata": {},
     "output_type": "execute_result"
    }
   ],
   "source": [
    "dict1 = {'Name' : ['Luthfi','Adnan','Rahman','Tyo','Abiyyu','Raditya','Naufal' \n",
    "                   ],\n",
    "         'Score' : [90, 89, 80, 99, 87, 83, 95],\n",
    "         'Gender' : ['Male','Female','Male','Male','Female','Female',\n",
    "                    'Male']\n",
    "    \n",
    "        }\n",
    "df1=pd.DataFrame(dict1) #Untuk Membuat DataFrame\n",
    "df1"
   ]
  },
  {
   "cell_type": "markdown",
   "id": "772ec0c8-18d6-42ec-82e8-617a148ef268",
   "metadata": {},
   "source": [
    "## 1. Menampilkan 3 Kolom Teratas Dari Dataset"
   ]
  },
  {
   "cell_type": "code",
   "execution_count": 5,
   "id": "9e1eba48-1aab-4455-a13f-46c36f3f20be",
   "metadata": {},
   "outputs": [
    {
     "data": {
      "text/html": [
       "<div>\n",
       "<style scoped>\n",
       "    .dataframe tbody tr th:only-of-type {\n",
       "        vertical-align: middle;\n",
       "    }\n",
       "\n",
       "    .dataframe tbody tr th {\n",
       "        vertical-align: top;\n",
       "    }\n",
       "\n",
       "    .dataframe thead th {\n",
       "        text-align: right;\n",
       "    }\n",
       "</style>\n",
       "<table border=\"1\" class=\"dataframe\">\n",
       "  <thead>\n",
       "    <tr style=\"text-align: right;\">\n",
       "      <th></th>\n",
       "      <th>Name</th>\n",
       "      <th>Score</th>\n",
       "      <th>Gender</th>\n",
       "    </tr>\n",
       "  </thead>\n",
       "  <tbody>\n",
       "    <tr>\n",
       "      <th>0</th>\n",
       "      <td>Luthfi</td>\n",
       "      <td>90</td>\n",
       "      <td>Male</td>\n",
       "    </tr>\n",
       "    <tr>\n",
       "      <th>1</th>\n",
       "      <td>Adnan</td>\n",
       "      <td>89</td>\n",
       "      <td>Female</td>\n",
       "    </tr>\n",
       "    <tr>\n",
       "      <th>2</th>\n",
       "      <td>Rahman</td>\n",
       "      <td>80</td>\n",
       "      <td>Male</td>\n",
       "    </tr>\n",
       "  </tbody>\n",
       "</table>\n",
       "</div>"
      ],
      "text/plain": [
       "     Name  Score  Gender\n",
       "0  Luthfi     90    Male\n",
       "1   Adnan     89  Female\n",
       "2  Rahman     80    Male"
      ]
     },
     "execution_count": 5,
     "metadata": {},
     "output_type": "execute_result"
    }
   ],
   "source": [
    "df1.head(3) #Secara default fungsi tersebut menampilkan 5 data teratas dari Dataset"
   ]
  },
  {
   "cell_type": "markdown",
   "id": "0f5318ad-29fe-4dac-be9d-3db289cc7a8f",
   "metadata": {},
   "source": [
    "## 2.Menampilkan 3 kolom terbawah dari dataset"
   ]
  },
  {
   "cell_type": "code",
   "execution_count": 7,
   "id": "de1ebc7b-c2a3-4254-a83e-7a9886b2b13c",
   "metadata": {},
   "outputs": [
    {
     "data": {
      "text/html": [
       "<div>\n",
       "<style scoped>\n",
       "    .dataframe tbody tr th:only-of-type {\n",
       "        vertical-align: middle;\n",
       "    }\n",
       "\n",
       "    .dataframe tbody tr th {\n",
       "        vertical-align: top;\n",
       "    }\n",
       "\n",
       "    .dataframe thead th {\n",
       "        text-align: right;\n",
       "    }\n",
       "</style>\n",
       "<table border=\"1\" class=\"dataframe\">\n",
       "  <thead>\n",
       "    <tr style=\"text-align: right;\">\n",
       "      <th></th>\n",
       "      <th>Name</th>\n",
       "      <th>Score</th>\n",
       "      <th>Gender</th>\n",
       "    </tr>\n",
       "  </thead>\n",
       "  <tbody>\n",
       "    <tr>\n",
       "      <th>4</th>\n",
       "      <td>Abiyyu</td>\n",
       "      <td>87</td>\n",
       "      <td>Female</td>\n",
       "    </tr>\n",
       "    <tr>\n",
       "      <th>5</th>\n",
       "      <td>Raditya</td>\n",
       "      <td>83</td>\n",
       "      <td>Female</td>\n",
       "    </tr>\n",
       "    <tr>\n",
       "      <th>6</th>\n",
       "      <td>Naufal</td>\n",
       "      <td>95</td>\n",
       "      <td>Male</td>\n",
       "    </tr>\n",
       "  </tbody>\n",
       "</table>\n",
       "</div>"
      ],
      "text/plain": [
       "      Name  Score  Gender\n",
       "4   Abiyyu     87  Female\n",
       "5  Raditya     83  Female\n",
       "6   Naufal     95    Male"
      ]
     },
     "execution_count": 7,
     "metadata": {},
     "output_type": "execute_result"
    }
   ],
   "source": [
    "df1.tail(3)"
   ]
  },
  {
   "cell_type": "markdown",
   "id": "e0b102ca-3e1b-47a0-9ba2-e7239d9d6852",
   "metadata": {},
   "source": [
    "## 3. Menampilkan Bentuk dari Dataset (Berisi Jumlah baris dan Kolom)"
   ]
  },
  {
   "cell_type": "code",
   "execution_count": 9,
   "id": "1ac4bf1b-a5a4-464f-89de-62201f93d842",
   "metadata": {},
   "outputs": [
    {
     "data": {
      "text/plain": [
       "(7, 3)"
      ]
     },
     "execution_count": 9,
     "metadata": {},
     "output_type": "execute_result"
    }
   ],
   "source": [
    "df1.shape #shape bukan method melaikan Attribute dan menampilkan tuple"
   ]
  },
  {
   "cell_type": "code",
   "execution_count": 12,
   "id": "4be3fc06-15b0-45fd-9e31-a3a9b549b4b2",
   "metadata": {},
   "outputs": [
    {
     "name": "stdout",
     "output_type": "stream",
     "text": [
      "Number of Rows 7\n",
      "Number of Columns 3\n"
     ]
    }
   ],
   "source": [
    "print('Number of Rows', df1.shape[0])\n",
    "print('Number of Columns', df1.shape[1]) #Menampilkan data melaui tuple ke-1"
   ]
  },
  {
   "cell_type": "markdown",
   "id": "e9e33049-8a32-4768-98e8-72e280b3dac9",
   "metadata": {},
   "source": [
    "## 4. Mendapatkan informasi mengenai Dataset seperti total baris, total number, tipedata berdasrkan kolom dan \"Memori Requrement\" "
   ]
  },
  {
   "cell_type": "code",
   "execution_count": 13,
   "id": "6089b88e-598e-4be8-971b-fe578b972038",
   "metadata": {},
   "outputs": [
    {
     "name": "stdout",
     "output_type": "stream",
     "text": [
      "<class 'pandas.core.frame.DataFrame'>\n",
      "RangeIndex: 7 entries, 0 to 6\n",
      "Data columns (total 3 columns):\n",
      " #   Column  Non-Null Count  Dtype \n",
      "---  ------  --------------  ----- \n",
      " 0   Name    7 non-null      object\n",
      " 1   Score   7 non-null      int64 \n",
      " 2   Gender  7 non-null      object\n",
      "dtypes: int64(1), object(2)\n",
      "memory usage: 296.0+ bytes\n"
     ]
    }
   ],
   "source": [
    "df1.info()"
   ]
  },
  {
   "cell_type": "markdown",
   "id": "30bab9e4-1f2b-4fe0-8a17-a947cfeef546",
   "metadata": {},
   "source": [
    "## 5. Memeriksa nilai kosong/hilang dari dataset"
   ]
  },
  {
   "cell_type": "code",
   "execution_count": 22,
   "id": "ce2ee9c2-3091-43b3-a314-313f7392bc1a",
   "metadata": {},
   "outputs": [
    {
     "data": {
      "text/plain": [
       "Name      0\n",
       "Score     0\n",
       "Gender    0\n",
       "dtype: int64"
      ]
     },
     "execution_count": 22,
     "metadata": {},
     "output_type": "execute_result"
    }
   ],
   "source": [
    "df1.isnull().sum(axis=0)\n",
    "# Ketika hanya mengetik isnul yang muncul adalah boolean DataTypes\n",
    "# Ketika ditambahkan fungsi sum yang muncul adalah total dari keseluruhan data kosong\n",
    "# Ketika axis = 0 akan memunculkan kolom\n",
    "# Ketika axis = 1 akan memunculkan baris"
   ]
  },
  {
   "cell_type": "markdown",
   "id": "58f795c5-c6db-43f2-aedf-e5ed92e4990e",
   "metadata": {},
   "source": [
    "## 6. Mendapatkan semua statistik mengenai DataFrame"
   ]
  },
  {
   "cell_type": "code",
   "execution_count": 26,
   "id": "612e9c2a-c1be-44ba-b3e3-1ca7f16127b2",
   "metadata": {},
   "outputs": [
    {
     "data": {
      "text/html": [
       "<div>\n",
       "<style scoped>\n",
       "    .dataframe tbody tr th:only-of-type {\n",
       "        vertical-align: middle;\n",
       "    }\n",
       "\n",
       "    .dataframe tbody tr th {\n",
       "        vertical-align: top;\n",
       "    }\n",
       "\n",
       "    .dataframe thead th {\n",
       "        text-align: right;\n",
       "    }\n",
       "</style>\n",
       "<table border=\"1\" class=\"dataframe\">\n",
       "  <thead>\n",
       "    <tr style=\"text-align: right;\">\n",
       "      <th></th>\n",
       "      <th>Name</th>\n",
       "      <th>Score</th>\n",
       "      <th>Gender</th>\n",
       "    </tr>\n",
       "  </thead>\n",
       "  <tbody>\n",
       "    <tr>\n",
       "      <th>count</th>\n",
       "      <td>7</td>\n",
       "      <td>7.000000</td>\n",
       "      <td>7</td>\n",
       "    </tr>\n",
       "    <tr>\n",
       "      <th>unique</th>\n",
       "      <td>7</td>\n",
       "      <td>NaN</td>\n",
       "      <td>2</td>\n",
       "    </tr>\n",
       "    <tr>\n",
       "      <th>top</th>\n",
       "      <td>Luthfi</td>\n",
       "      <td>NaN</td>\n",
       "      <td>Male</td>\n",
       "    </tr>\n",
       "    <tr>\n",
       "      <th>freq</th>\n",
       "      <td>1</td>\n",
       "      <td>NaN</td>\n",
       "      <td>4</td>\n",
       "    </tr>\n",
       "    <tr>\n",
       "      <th>mean</th>\n",
       "      <td>NaN</td>\n",
       "      <td>89.000000</td>\n",
       "      <td>NaN</td>\n",
       "    </tr>\n",
       "    <tr>\n",
       "      <th>std</th>\n",
       "      <td>NaN</td>\n",
       "      <td>6.557439</td>\n",
       "      <td>NaN</td>\n",
       "    </tr>\n",
       "    <tr>\n",
       "      <th>min</th>\n",
       "      <td>NaN</td>\n",
       "      <td>80.000000</td>\n",
       "      <td>NaN</td>\n",
       "    </tr>\n",
       "    <tr>\n",
       "      <th>25%</th>\n",
       "      <td>NaN</td>\n",
       "      <td>85.000000</td>\n",
       "      <td>NaN</td>\n",
       "    </tr>\n",
       "    <tr>\n",
       "      <th>50%</th>\n",
       "      <td>NaN</td>\n",
       "      <td>89.000000</td>\n",
       "      <td>NaN</td>\n",
       "    </tr>\n",
       "    <tr>\n",
       "      <th>75%</th>\n",
       "      <td>NaN</td>\n",
       "      <td>92.500000</td>\n",
       "      <td>NaN</td>\n",
       "    </tr>\n",
       "    <tr>\n",
       "      <th>max</th>\n",
       "      <td>NaN</td>\n",
       "      <td>99.000000</td>\n",
       "      <td>NaN</td>\n",
       "    </tr>\n",
       "  </tbody>\n",
       "</table>\n",
       "</div>"
      ],
      "text/plain": [
       "          Name      Score Gender\n",
       "count        7   7.000000      7\n",
       "unique       7        NaN      2\n",
       "top     Luthfi        NaN   Male\n",
       "freq         1        NaN      4\n",
       "mean       NaN  89.000000    NaN\n",
       "std        NaN   6.557439    NaN\n",
       "min        NaN  80.000000    NaN\n",
       "25%        NaN  85.000000    NaN\n",
       "50%        NaN  89.000000    NaN\n",
       "75%        NaN  92.500000    NaN\n",
       "max        NaN  99.000000    NaN"
      ]
     },
     "execution_count": 26,
     "metadata": {},
     "output_type": "execute_result"
    }
   ],
   "source": [
    "df1.describe(include='all')\n",
    "#Ketika default describe hanya menampilkan kolom numerical\n",
    "#Ketika ingin mendapatkan semua nilai maka dituliskan include='all'\n",
    "#Muncul nilai NAN karena kolom tersebut ditujukan untuk kolom numerical"
   ]
  },
  {
   "cell_type": "markdown",
   "id": "a6c09840-dc98-4ef7-8d8e-849a2cb34c9e",
   "metadata": {},
   "source": [
    "## 7.Menemukan nilai unik dari kolom Jenis Kelamin"
   ]
  },
  {
   "cell_type": "code",
   "execution_count": 27,
   "id": "585dff6a-6b83-4b21-a146-6fe55d82cb3e",
   "metadata": {},
   "outputs": [
    {
     "data": {
      "text/html": [
       "<div>\n",
       "<style scoped>\n",
       "    .dataframe tbody tr th:only-of-type {\n",
       "        vertical-align: middle;\n",
       "    }\n",
       "\n",
       "    .dataframe tbody tr th {\n",
       "        vertical-align: top;\n",
       "    }\n",
       "\n",
       "    .dataframe thead th {\n",
       "        text-align: right;\n",
       "    }\n",
       "</style>\n",
       "<table border=\"1\" class=\"dataframe\">\n",
       "  <thead>\n",
       "    <tr style=\"text-align: right;\">\n",
       "      <th></th>\n",
       "      <th>Name</th>\n",
       "      <th>Score</th>\n",
       "      <th>Gender</th>\n",
       "    </tr>\n",
       "  </thead>\n",
       "  <tbody>\n",
       "    <tr>\n",
       "      <th>0</th>\n",
       "      <td>Luthfi</td>\n",
       "      <td>90</td>\n",
       "      <td>Male</td>\n",
       "    </tr>\n",
       "    <tr>\n",
       "      <th>1</th>\n",
       "      <td>Adnan</td>\n",
       "      <td>89</td>\n",
       "      <td>Female</td>\n",
       "    </tr>\n",
       "    <tr>\n",
       "      <th>2</th>\n",
       "      <td>Rahman</td>\n",
       "      <td>80</td>\n",
       "      <td>Male</td>\n",
       "    </tr>\n",
       "    <tr>\n",
       "      <th>3</th>\n",
       "      <td>Tyo</td>\n",
       "      <td>99</td>\n",
       "      <td>Male</td>\n",
       "    </tr>\n",
       "    <tr>\n",
       "      <th>4</th>\n",
       "      <td>Abiyyu</td>\n",
       "      <td>87</td>\n",
       "      <td>Female</td>\n",
       "    </tr>\n",
       "    <tr>\n",
       "      <th>5</th>\n",
       "      <td>Raditya</td>\n",
       "      <td>83</td>\n",
       "      <td>Female</td>\n",
       "    </tr>\n",
       "    <tr>\n",
       "      <th>6</th>\n",
       "      <td>Naufal</td>\n",
       "      <td>95</td>\n",
       "      <td>Male</td>\n",
       "    </tr>\n",
       "  </tbody>\n",
       "</table>\n",
       "</div>"
      ],
      "text/plain": [
       "      Name  Score  Gender\n",
       "0   Luthfi     90    Male\n",
       "1    Adnan     89  Female\n",
       "2   Rahman     80    Male\n",
       "3      Tyo     99    Male\n",
       "4   Abiyyu     87  Female\n",
       "5  Raditya     83  Female\n",
       "6   Naufal     95    Male"
      ]
     },
     "execution_count": 27,
     "metadata": {},
     "output_type": "execute_result"
    }
   ],
   "source": [
    "df1"
   ]
  },
  {
   "cell_type": "code",
   "execution_count": 29,
   "id": "078c7fb4-5eac-4ace-abe1-e5af5b137393",
   "metadata": {},
   "outputs": [
    {
     "data": {
      "text/plain": [
       "array(['Male', 'Female'], dtype=object)"
      ]
     },
     "execution_count": 29,
     "metadata": {},
     "output_type": "execute_result"
    }
   ],
   "source": [
    "df1['Gender'].unique()\n",
    "#Kurung siku digunakan untuk spesifikasi kolom yang dituju"
   ]
  },
  {
   "cell_type": "markdown",
   "id": "69d24f3f-2a7e-4d54-8a56-b975f20a2331",
   "metadata": {},
   "source": [
    "## 8.Menemukan jumlah nilai unik dari kolom Jenis Kelamin"
   ]
  },
  {
   "cell_type": "code",
   "execution_count": 32,
   "id": "94754537-112f-4b45-a824-8a12098cd2a9",
   "metadata": {},
   "outputs": [
    {
     "data": {
      "text/plain": [
       "2"
      ]
     },
     "execution_count": 32,
     "metadata": {},
     "output_type": "execute_result"
    }
   ],
   "source": [
    "df1['Gender'].nunique()\n",
    "#nunique digunakan untuk mendapatkan jumlah dari nilai unik"
   ]
  },
  {
   "cell_type": "markdown",
   "id": "3842fed6-7f6e-451c-b3d1-4c119091c5fd",
   "metadata": {},
   "source": [
    "## 9. Menampilkan Jumlah nilai unik dari kolom Jenis Kelamin"
   ]
  },
  {
   "cell_type": "code",
   "execution_count": 33,
   "id": "04a3cc66-b7d6-4ebc-8a75-cbacbf1f2b6a",
   "metadata": {},
   "outputs": [
    {
     "data": {
      "text/plain": [
       "Male      4\n",
       "Female    3\n",
       "Name: Gender, dtype: int64"
      ]
     },
     "execution_count": 33,
     "metadata": {},
     "output_type": "execute_result"
    }
   ],
   "source": [
    "df1['Gender'].value_counts()"
   ]
  },
  {
   "cell_type": "markdown",
   "id": "5ab99930-19fb-4bf5-927d-d1ea2b3c1adb",
   "metadata": {},
   "source": [
    "## 10. Menemukan siswa yang memiliki nilai diantara 90 sampai 100 menggunakan between Method"
   ]
  },
  {
   "cell_type": "code",
   "execution_count": 36,
   "id": "5470315c-c634-4048-ac33-c6ab1d3b116b",
   "metadata": {},
   "outputs": [
    {
     "data": {
      "text/plain": [
       "0     True\n",
       "1    False\n",
       "2    False\n",
       "3     True\n",
       "4    False\n",
       "5    False\n",
       "6     True\n",
       "Name: Score, dtype: bool"
      ]
     },
     "execution_count": 36,
     "metadata": {},
     "output_type": "execute_result"
    }
   ],
   "source": [
    "df1['Score']>=90\n",
    "# Ketika memakai fungsi diatas yang muncul adalah jawaban Boleean"
   ]
  },
  {
   "cell_type": "code",
   "execution_count": 38,
   "id": "b964a2e0-108d-436a-a66b-5d435ddc6b34",
   "metadata": {},
   "outputs": [
    {
     "data": {
      "text/html": [
       "<div>\n",
       "<style scoped>\n",
       "    .dataframe tbody tr th:only-of-type {\n",
       "        vertical-align: middle;\n",
       "    }\n",
       "\n",
       "    .dataframe tbody tr th {\n",
       "        vertical-align: top;\n",
       "    }\n",
       "\n",
       "    .dataframe thead th {\n",
       "        text-align: right;\n",
       "    }\n",
       "</style>\n",
       "<table border=\"1\" class=\"dataframe\">\n",
       "  <thead>\n",
       "    <tr style=\"text-align: right;\">\n",
       "      <th></th>\n",
       "      <th>Name</th>\n",
       "      <th>Score</th>\n",
       "      <th>Gender</th>\n",
       "    </tr>\n",
       "  </thead>\n",
       "  <tbody>\n",
       "    <tr>\n",
       "      <th>0</th>\n",
       "      <td>Luthfi</td>\n",
       "      <td>90</td>\n",
       "      <td>Male</td>\n",
       "    </tr>\n",
       "    <tr>\n",
       "      <th>3</th>\n",
       "      <td>Tyo</td>\n",
       "      <td>99</td>\n",
       "      <td>Male</td>\n",
       "    </tr>\n",
       "    <tr>\n",
       "      <th>6</th>\n",
       "      <td>Naufal</td>\n",
       "      <td>95</td>\n",
       "      <td>Male</td>\n",
       "    </tr>\n",
       "  </tbody>\n",
       "</table>\n",
       "</div>"
      ],
      "text/plain": [
       "     Name  Score Gender\n",
       "0  Luthfi     90   Male\n",
       "3     Tyo     99   Male\n",
       "6  Naufal     95   Male"
      ]
     },
     "execution_count": 38,
     "metadata": {},
     "output_type": "execute_result"
    }
   ],
   "source": [
    "df1[df1['Score']>=90]\n",
    "# Ketika memakai fungsi diatas yang muncul adalah kolom dan baris"
   ]
  },
  {
   "cell_type": "code",
   "execution_count": 41,
   "id": "f0dc8921-0f5f-4eb9-a337-dcb24f30748b",
   "metadata": {},
   "outputs": [
    {
     "data": {
      "text/plain": [
       "0     True\n",
       "1    False\n",
       "2    False\n",
       "3     True\n",
       "4    False\n",
       "5    False\n",
       "6     True\n",
       "Name: Score, dtype: bool"
      ]
     },
     "execution_count": 41,
     "metadata": {},
     "output_type": "execute_result"
    }
   ],
   "source": [
    "(df1['Score']>=90) & (df1['Score']<=100)\n",
    "#Ketika memakai fungsi diatas akan menampilkan jawaban boleaan"
   ]
  },
  {
   "cell_type": "code",
   "execution_count": 43,
   "id": "47534383-8a3b-40ed-bc73-122628adf2e6",
   "metadata": {},
   "outputs": [
    {
     "data": {
      "text/html": [
       "<div>\n",
       "<style scoped>\n",
       "    .dataframe tbody tr th:only-of-type {\n",
       "        vertical-align: middle;\n",
       "    }\n",
       "\n",
       "    .dataframe tbody tr th {\n",
       "        vertical-align: top;\n",
       "    }\n",
       "\n",
       "    .dataframe thead th {\n",
       "        text-align: right;\n",
       "    }\n",
       "</style>\n",
       "<table border=\"1\" class=\"dataframe\">\n",
       "  <thead>\n",
       "    <tr style=\"text-align: right;\">\n",
       "      <th></th>\n",
       "      <th>Name</th>\n",
       "      <th>Score</th>\n",
       "      <th>Gender</th>\n",
       "    </tr>\n",
       "  </thead>\n",
       "  <tbody>\n",
       "    <tr>\n",
       "      <th>0</th>\n",
       "      <td>Luthfi</td>\n",
       "      <td>90</td>\n",
       "      <td>Male</td>\n",
       "    </tr>\n",
       "    <tr>\n",
       "      <th>3</th>\n",
       "      <td>Tyo</td>\n",
       "      <td>99</td>\n",
       "      <td>Male</td>\n",
       "    </tr>\n",
       "    <tr>\n",
       "      <th>6</th>\n",
       "      <td>Naufal</td>\n",
       "      <td>95</td>\n",
       "      <td>Male</td>\n",
       "    </tr>\n",
       "  </tbody>\n",
       "</table>\n",
       "</div>"
      ],
      "text/plain": [
       "     Name  Score Gender\n",
       "0  Luthfi     90   Male\n",
       "3     Tyo     99   Male\n",
       "6  Naufal     95   Male"
      ]
     },
     "execution_count": 43,
     "metadata": {},
     "output_type": "execute_result"
    }
   ],
   "source": [
    "df1[(df1['Score']>=90) & (df1['Score']<=100)]\n",
    "#Ketika memakai fungsi diatas akan menampilkan kolom dan baris yang bernilai True"
   ]
  },
  {
   "cell_type": "code",
   "execution_count": 44,
   "id": "45912d3f-c392-471c-b9f3-01b9bc312c2e",
   "metadata": {},
   "outputs": [
    {
     "data": {
      "text/plain": [
       "3"
      ]
     },
     "execution_count": 44,
     "metadata": {},
     "output_type": "execute_result"
    }
   ],
   "source": [
    "len(df1[(df1['Score']>=90) & (df1['Score']<=100)])\n",
    "#Fungsi diatas digunakan untuk mengetahui berapa jumlah siswa yang memenuhi kondisi tersebut"
   ]
  },
  {
   "cell_type": "code",
   "execution_count": 49,
   "id": "f02cfefb-c011-492a-9b01-eb40bca0b364",
   "metadata": {},
   "outputs": [
    {
     "data": {
      "text/plain": [
       "3"
      ]
     },
     "execution_count": 49,
     "metadata": {},
     "output_type": "execute_result"
    }
   ],
   "source": [
    "sum(df1['Score'].between(90,100))\n",
    "#Fungsi Between digunakan untuk mempersingkat kondisi diatas\n",
    "#Sum digunakan untuk menjumlahkan seluruh kondisi yang bernilai True"
   ]
  },
  {
   "cell_type": "markdown",
   "id": "352fbfe3-63ac-4a37-9385-9e643aeaeea5",
   "metadata": {},
   "source": [
    "## 11. Menemukan nilai rata-rata"
   ]
  },
  {
   "cell_type": "code",
   "execution_count": 50,
   "id": "80562e58-f392-4976-a7cc-aa5f615a831e",
   "metadata": {},
   "outputs": [
    {
     "data": {
      "text/html": [
       "<div>\n",
       "<style scoped>\n",
       "    .dataframe tbody tr th:only-of-type {\n",
       "        vertical-align: middle;\n",
       "    }\n",
       "\n",
       "    .dataframe tbody tr th {\n",
       "        vertical-align: top;\n",
       "    }\n",
       "\n",
       "    .dataframe thead th {\n",
       "        text-align: right;\n",
       "    }\n",
       "</style>\n",
       "<table border=\"1\" class=\"dataframe\">\n",
       "  <thead>\n",
       "    <tr style=\"text-align: right;\">\n",
       "      <th></th>\n",
       "      <th>Name</th>\n",
       "      <th>Score</th>\n",
       "      <th>Gender</th>\n",
       "    </tr>\n",
       "  </thead>\n",
       "  <tbody>\n",
       "    <tr>\n",
       "      <th>0</th>\n",
       "      <td>Luthfi</td>\n",
       "      <td>90</td>\n",
       "      <td>Male</td>\n",
       "    </tr>\n",
       "    <tr>\n",
       "      <th>1</th>\n",
       "      <td>Adnan</td>\n",
       "      <td>89</td>\n",
       "      <td>Female</td>\n",
       "    </tr>\n",
       "    <tr>\n",
       "      <th>2</th>\n",
       "      <td>Rahman</td>\n",
       "      <td>80</td>\n",
       "      <td>Male</td>\n",
       "    </tr>\n",
       "    <tr>\n",
       "      <th>3</th>\n",
       "      <td>Tyo</td>\n",
       "      <td>99</td>\n",
       "      <td>Male</td>\n",
       "    </tr>\n",
       "    <tr>\n",
       "      <th>4</th>\n",
       "      <td>Abiyyu</td>\n",
       "      <td>87</td>\n",
       "      <td>Female</td>\n",
       "    </tr>\n",
       "    <tr>\n",
       "      <th>5</th>\n",
       "      <td>Raditya</td>\n",
       "      <td>83</td>\n",
       "      <td>Female</td>\n",
       "    </tr>\n",
       "    <tr>\n",
       "      <th>6</th>\n",
       "      <td>Naufal</td>\n",
       "      <td>95</td>\n",
       "      <td>Male</td>\n",
       "    </tr>\n",
       "  </tbody>\n",
       "</table>\n",
       "</div>"
      ],
      "text/plain": [
       "      Name  Score  Gender\n",
       "0   Luthfi     90    Male\n",
       "1    Adnan     89  Female\n",
       "2   Rahman     80    Male\n",
       "3      Tyo     99    Male\n",
       "4   Abiyyu     87  Female\n",
       "5  Raditya     83  Female\n",
       "6   Naufal     95    Male"
      ]
     },
     "execution_count": 50,
     "metadata": {},
     "output_type": "execute_result"
    }
   ],
   "source": [
    "df1"
   ]
  },
  {
   "cell_type": "code",
   "execution_count": 52,
   "id": "086550ab-d72e-44bc-882a-8124e023a8ac",
   "metadata": {},
   "outputs": [
    {
     "data": {
      "text/plain": [
       "89.0"
      ]
     },
     "execution_count": 52,
     "metadata": {},
     "output_type": "execute_result"
    }
   ],
   "source": [
    "df1['Score'].mean()\n",
    "#Menampilkan nilai rata2 dari kolom Score"
   ]
  },
  {
   "cell_type": "markdown",
   "id": "be218f16-d7b1-40e8-ae5e-438a079311f5",
   "metadata": {},
   "source": [
    "## 12. Metode Apply"
   ]
  },
  {
   "cell_type": "code",
   "execution_count": 74,
   "id": "5d36524e-c4be-4c0e-b6f9-2db9a936726f",
   "metadata": {},
   "outputs": [],
   "source": [
    "def score(x):\n",
    "    return x//2\n",
    "#\"/\" digunakan untuk membagi bilangan\n",
    "#\"//\" digutnakan untuk membagi bilangan dan membulatkan bilangan kebawah"
   ]
  },
  {
   "cell_type": "code",
   "execution_count": 75,
   "id": "952318ea-7f67-4a28-81ef-7e295f33888a",
   "metadata": {},
   "outputs": [
    {
     "data": {
      "text/plain": [
       "0    45\n",
       "1    44\n",
       "2    40\n",
       "3    49\n",
       "4    43\n",
       "5    41\n",
       "6    47\n",
       "Name: Score, dtype: int64"
      ]
     },
     "execution_count": 75,
     "metadata": {},
     "output_type": "execute_result"
    }
   ],
   "source": [
    "df1['Score'].apply(score)\n",
    "#Menerapkan fungsi apply pada kolom Score"
   ]
  },
  {
   "cell_type": "code",
   "execution_count": 76,
   "id": "056ecfb2-e462-4903-9de9-6ead5ccc2d58",
   "metadata": {},
   "outputs": [],
   "source": [
    "df1['Half Score'] = df1['Score'].apply(score)\n",
    "#Membuat Kolom baru"
   ]
  },
  {
   "cell_type": "code",
   "execution_count": 77,
   "id": "cb77cd10-6862-4b7c-96d9-7d8a324bfe42",
   "metadata": {},
   "outputs": [
    {
     "data": {
      "text/html": [
       "<div>\n",
       "<style scoped>\n",
       "    .dataframe tbody tr th:only-of-type {\n",
       "        vertical-align: middle;\n",
       "    }\n",
       "\n",
       "    .dataframe tbody tr th {\n",
       "        vertical-align: top;\n",
       "    }\n",
       "\n",
       "    .dataframe thead th {\n",
       "        text-align: right;\n",
       "    }\n",
       "</style>\n",
       "<table border=\"1\" class=\"dataframe\">\n",
       "  <thead>\n",
       "    <tr style=\"text-align: right;\">\n",
       "      <th></th>\n",
       "      <th>Name</th>\n",
       "      <th>Score</th>\n",
       "      <th>Gender</th>\n",
       "      <th>Half Score</th>\n",
       "    </tr>\n",
       "  </thead>\n",
       "  <tbody>\n",
       "    <tr>\n",
       "      <th>0</th>\n",
       "      <td>Luthfi</td>\n",
       "      <td>90</td>\n",
       "      <td>Male</td>\n",
       "      <td>45</td>\n",
       "    </tr>\n",
       "    <tr>\n",
       "      <th>1</th>\n",
       "      <td>Adnan</td>\n",
       "      <td>89</td>\n",
       "      <td>Female</td>\n",
       "      <td>44</td>\n",
       "    </tr>\n",
       "    <tr>\n",
       "      <th>2</th>\n",
       "      <td>Rahman</td>\n",
       "      <td>80</td>\n",
       "      <td>Male</td>\n",
       "      <td>40</td>\n",
       "    </tr>\n",
       "    <tr>\n",
       "      <th>3</th>\n",
       "      <td>Tyo</td>\n",
       "      <td>99</td>\n",
       "      <td>Male</td>\n",
       "      <td>49</td>\n",
       "    </tr>\n",
       "    <tr>\n",
       "      <th>4</th>\n",
       "      <td>Abiyyu</td>\n",
       "      <td>87</td>\n",
       "      <td>Female</td>\n",
       "      <td>43</td>\n",
       "    </tr>\n",
       "    <tr>\n",
       "      <th>5</th>\n",
       "      <td>Raditya</td>\n",
       "      <td>83</td>\n",
       "      <td>Female</td>\n",
       "      <td>41</td>\n",
       "    </tr>\n",
       "    <tr>\n",
       "      <th>6</th>\n",
       "      <td>Naufal</td>\n",
       "      <td>95</td>\n",
       "      <td>Male</td>\n",
       "      <td>47</td>\n",
       "    </tr>\n",
       "  </tbody>\n",
       "</table>\n",
       "</div>"
      ],
      "text/plain": [
       "      Name  Score  Gender  Half Score\n",
       "0   Luthfi     90    Male          45\n",
       "1    Adnan     89  Female          44\n",
       "2   Rahman     80    Male          40\n",
       "3      Tyo     99    Male          49\n",
       "4   Abiyyu     87  Female          43\n",
       "5  Raditya     83  Female          41\n",
       "6   Naufal     95    Male          47"
      ]
     },
     "execution_count": 77,
     "metadata": {},
     "output_type": "execute_result"
    }
   ],
   "source": [
    "df1"
   ]
  },
  {
   "cell_type": "code",
   "execution_count": 80,
   "id": "4490ccb0-ecbd-4edd-97fa-a6df8d55c5bd",
   "metadata": {},
   "outputs": [
    {
     "data": {
      "text/plain": [
       "0    45.0\n",
       "1    44.5\n",
       "2    40.0\n",
       "3    49.5\n",
       "4    43.5\n",
       "5    41.5\n",
       "6    47.5\n",
       "Name: Score, dtype: float64"
      ]
     },
     "execution_count": 80,
     "metadata": {},
     "output_type": "execute_result"
    }
   ],
   "source": [
    "df1['Score'].apply(lambda x:x/2)\n",
    "#Cara singkat untuk pengunaan metode lambda"
   ]
  },
  {
   "cell_type": "code",
   "execution_count": 81,
   "id": "6e01d3fd-7923-4bcb-a405-78fd91ed8ba1",
   "metadata": {},
   "outputs": [
    {
     "data": {
      "text/plain": [
       "0    6\n",
       "1    5\n",
       "2    6\n",
       "3    3\n",
       "4    6\n",
       "5    7\n",
       "6    6\n",
       "Name: Name, dtype: int64"
      ]
     },
     "execution_count": 81,
     "metadata": {},
     "output_type": "execute_result"
    }
   ],
   "source": [
    "df1['Name'].apply(len)\n",
    "#Untuk menampilkan panjang dari masing masing nama"
   ]
  },
  {
   "cell_type": "markdown",
   "id": "58df670d-3b48-4430-aab5-1fd2d08f01b9",
   "metadata": {},
   "source": [
    "## 13. Fungsi Map"
   ]
  },
  {
   "cell_type": "code",
   "execution_count": null,
   "id": "fb19dbfb-120f-4dea-a342-f733ebe76d22",
   "metadata": {},
   "outputs": [],
   "source": []
  }
 ],
 "metadata": {
  "kernelspec": {
   "display_name": "Python 3 (ipykernel)",
   "language": "python",
   "name": "python3"
  },
  "language_info": {
   "codemirror_mode": {
    "name": "ipython",
    "version": 3
   },
   "file_extension": ".py",
   "mimetype": "text/x-python",
   "name": "python",
   "nbconvert_exporter": "python",
   "pygments_lexer": "ipython3",
   "version": "3.9.13"
  }
 },
 "nbformat": 4,
 "nbformat_minor": 5
}
