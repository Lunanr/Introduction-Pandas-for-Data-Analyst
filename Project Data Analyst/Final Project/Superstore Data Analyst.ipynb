{
 "cells": [
  {
   "cell_type": "code",
   "execution_count": 1,
   "id": "b422aa71-ae9b-4d51-b563-7cf55ce82b1a",
   "metadata": {},
   "outputs": [],
   "source": [
    "import pandas as pd\n",
    "import numpy as np\n",
    "import matplotlib.pyplot as plt\n",
    "import seaborn as sns"
   ]
  },
  {
   "cell_type": "code",
   "execution_count": 2,
   "id": "872be941-4304-45bf-aa25-25ec8f988142",
   "metadata": {},
   "outputs": [],
   "source": [
    "pd.set_option('display.float_format', lambda x: '%.3f' % x)"
   ]
  },
  {
   "cell_type": "code",
   "execution_count": 3,
   "id": "d079019a-add4-4389-b96f-2e8d4b0d1d56",
   "metadata": {},
   "outputs": [],
   "source": [
    "import warnings\n",
    "warnings.filterwarnings('ignore')"
   ]
  },
  {
   "cell_type": "markdown",
   "id": "fe86f360-b83a-4757-9b5c-2e1404de4d71",
   "metadata": {},
   "source": [
    "## Gather and clean the data"
   ]
  },
  {
   "cell_type": "markdown",
   "id": "3b1fcdd8-8261-48ea-a20d-b96edf74cc8e",
   "metadata": {},
   "source": [
    "## Explore the data"
   ]
  },
  {
   "cell_type": "code",
   "execution_count": 5,
   "id": "bc72b1e5-7635-425a-98af-474692dc108d",
   "metadata": {
    "tags": []
   },
   "outputs": [
    {
     "data": {
      "text/html": [
       "<div>\n",
       "<style scoped>\n",
       "    .dataframe tbody tr th:only-of-type {\n",
       "        vertical-align: middle;\n",
       "    }\n",
       "\n",
       "    .dataframe tbody tr th {\n",
       "        vertical-align: top;\n",
       "    }\n",
       "\n",
       "    .dataframe thead th {\n",
       "        text-align: right;\n",
       "    }\n",
       "</style>\n",
       "<table border=\"1\" class=\"dataframe\">\n",
       "  <thead>\n",
       "    <tr style=\"text-align: right;\">\n",
       "      <th></th>\n",
       "      <th>Row ID</th>\n",
       "      <th>Order ID</th>\n",
       "      <th>Order Date</th>\n",
       "      <th>Ship Date</th>\n",
       "      <th>Ship Mode</th>\n",
       "      <th>Customer ID</th>\n",
       "      <th>Customer Name</th>\n",
       "      <th>Segment</th>\n",
       "      <th>City</th>\n",
       "      <th>State</th>\n",
       "      <th>...</th>\n",
       "      <th>Product ID</th>\n",
       "      <th>Category</th>\n",
       "      <th>Sub-Category</th>\n",
       "      <th>Product Name</th>\n",
       "      <th>Sales</th>\n",
       "      <th>Quantity</th>\n",
       "      <th>Discount</th>\n",
       "      <th>Profit</th>\n",
       "      <th>Shipping Cost</th>\n",
       "      <th>Order Priority</th>\n",
       "    </tr>\n",
       "  </thead>\n",
       "  <tbody>\n",
       "    <tr>\n",
       "      <th>0</th>\n",
       "      <td>42433</td>\n",
       "      <td>AG-2011-2040</td>\n",
       "      <td>1/1/2011</td>\n",
       "      <td>6/1/2011</td>\n",
       "      <td>Standard Class</td>\n",
       "      <td>TB-11280</td>\n",
       "      <td>Toby Braunhardt</td>\n",
       "      <td>Consumer</td>\n",
       "      <td>Constantine</td>\n",
       "      <td>Constantine</td>\n",
       "      <td>...</td>\n",
       "      <td>OFF-TEN-10000025</td>\n",
       "      <td>Office Supplies</td>\n",
       "      <td>Storage</td>\n",
       "      <td>Tenex Lockers, Blue</td>\n",
       "      <td>408.300</td>\n",
       "      <td>2</td>\n",
       "      <td>0.000</td>\n",
       "      <td>106.140</td>\n",
       "      <td>35.460</td>\n",
       "      <td>Medium</td>\n",
       "    </tr>\n",
       "    <tr>\n",
       "      <th>1</th>\n",
       "      <td>22253</td>\n",
       "      <td>IN-2011-47883</td>\n",
       "      <td>1/1/2011</td>\n",
       "      <td>8/1/2011</td>\n",
       "      <td>Standard Class</td>\n",
       "      <td>JH-15985</td>\n",
       "      <td>Joseph Holt</td>\n",
       "      <td>Consumer</td>\n",
       "      <td>Wagga Wagga</td>\n",
       "      <td>New South Wales</td>\n",
       "      <td>...</td>\n",
       "      <td>OFF-SU-10000618</td>\n",
       "      <td>Office Supplies</td>\n",
       "      <td>Supplies</td>\n",
       "      <td>Acme Trimmer, High Speed</td>\n",
       "      <td>120.366</td>\n",
       "      <td>3</td>\n",
       "      <td>0.100</td>\n",
       "      <td>36.036</td>\n",
       "      <td>9.720</td>\n",
       "      <td>Medium</td>\n",
       "    </tr>\n",
       "    <tr>\n",
       "      <th>2</th>\n",
       "      <td>48883</td>\n",
       "      <td>HU-2011-1220</td>\n",
       "      <td>1/1/2011</td>\n",
       "      <td>5/1/2011</td>\n",
       "      <td>Second Class</td>\n",
       "      <td>AT-735</td>\n",
       "      <td>Annie Thurman</td>\n",
       "      <td>Consumer</td>\n",
       "      <td>Budapest</td>\n",
       "      <td>Budapest</td>\n",
       "      <td>...</td>\n",
       "      <td>OFF-TEN-10001585</td>\n",
       "      <td>Office Supplies</td>\n",
       "      <td>Storage</td>\n",
       "      <td>Tenex Box, Single Width</td>\n",
       "      <td>66.120</td>\n",
       "      <td>4</td>\n",
       "      <td>0.000</td>\n",
       "      <td>29.640</td>\n",
       "      <td>8.170</td>\n",
       "      <td>High</td>\n",
       "    </tr>\n",
       "    <tr>\n",
       "      <th>3</th>\n",
       "      <td>11731</td>\n",
       "      <td>IT-2011-3647632</td>\n",
       "      <td>1/1/2011</td>\n",
       "      <td>5/1/2011</td>\n",
       "      <td>Second Class</td>\n",
       "      <td>EM-14140</td>\n",
       "      <td>Eugene Moren</td>\n",
       "      <td>Home Office</td>\n",
       "      <td>Stockholm</td>\n",
       "      <td>Stockholm</td>\n",
       "      <td>...</td>\n",
       "      <td>OFF-PA-10001492</td>\n",
       "      <td>Office Supplies</td>\n",
       "      <td>Paper</td>\n",
       "      <td>Enermax Note Cards, Premium</td>\n",
       "      <td>44.865</td>\n",
       "      <td>3</td>\n",
       "      <td>0.500</td>\n",
       "      <td>-26.055</td>\n",
       "      <td>4.820</td>\n",
       "      <td>High</td>\n",
       "    </tr>\n",
       "    <tr>\n",
       "      <th>4</th>\n",
       "      <td>22255</td>\n",
       "      <td>IN-2011-47883</td>\n",
       "      <td>1/1/2011</td>\n",
       "      <td>8/1/2011</td>\n",
       "      <td>Standard Class</td>\n",
       "      <td>JH-15985</td>\n",
       "      <td>Joseph Holt</td>\n",
       "      <td>Consumer</td>\n",
       "      <td>Wagga Wagga</td>\n",
       "      <td>New South Wales</td>\n",
       "      <td>...</td>\n",
       "      <td>FUR-FU-10003447</td>\n",
       "      <td>Furniture</td>\n",
       "      <td>Furnishings</td>\n",
       "      <td>Eldon Light Bulb, Duo Pack</td>\n",
       "      <td>113.670</td>\n",
       "      <td>5</td>\n",
       "      <td>0.100</td>\n",
       "      <td>37.770</td>\n",
       "      <td>4.700</td>\n",
       "      <td>Medium</td>\n",
       "    </tr>\n",
       "    <tr>\n",
       "      <th>...</th>\n",
       "      <td>...</td>\n",
       "      <td>...</td>\n",
       "      <td>...</td>\n",
       "      <td>...</td>\n",
       "      <td>...</td>\n",
       "      <td>...</td>\n",
       "      <td>...</td>\n",
       "      <td>...</td>\n",
       "      <td>...</td>\n",
       "      <td>...</td>\n",
       "      <td>...</td>\n",
       "      <td>...</td>\n",
       "      <td>...</td>\n",
       "      <td>...</td>\n",
       "      <td>...</td>\n",
       "      <td>...</td>\n",
       "      <td>...</td>\n",
       "      <td>...</td>\n",
       "      <td>...</td>\n",
       "      <td>...</td>\n",
       "      <td>...</td>\n",
       "    </tr>\n",
       "    <tr>\n",
       "      <th>51285</th>\n",
       "      <td>32593</td>\n",
       "      <td>CA-2014-115427</td>\n",
       "      <td>31-12-2014</td>\n",
       "      <td>4/1/2015</td>\n",
       "      <td>Standard Class</td>\n",
       "      <td>EB-13975</td>\n",
       "      <td>Erica Bern</td>\n",
       "      <td>Corporate</td>\n",
       "      <td>Fairfield</td>\n",
       "      <td>California</td>\n",
       "      <td>...</td>\n",
       "      <td>OFF-BI-10002103</td>\n",
       "      <td>Office Supplies</td>\n",
       "      <td>Binders</td>\n",
       "      <td>Cardinal Slant-D Ring Binder, Heavy Gauge Vinyl</td>\n",
       "      <td>13.904</td>\n",
       "      <td>2</td>\n",
       "      <td>0.200</td>\n",
       "      <td>4.519</td>\n",
       "      <td>0.890</td>\n",
       "      <td>Medium</td>\n",
       "    </tr>\n",
       "    <tr>\n",
       "      <th>51286</th>\n",
       "      <td>47594</td>\n",
       "      <td>MO-2014-2560</td>\n",
       "      <td>31-12-2014</td>\n",
       "      <td>5/1/2015</td>\n",
       "      <td>Standard Class</td>\n",
       "      <td>LP-7095</td>\n",
       "      <td>Liz Preis</td>\n",
       "      <td>Consumer</td>\n",
       "      <td>Agadir</td>\n",
       "      <td>Souss-Massa-Draâ</td>\n",
       "      <td>...</td>\n",
       "      <td>OFF-WIL-10001069</td>\n",
       "      <td>Office Supplies</td>\n",
       "      <td>Binders</td>\n",
       "      <td>Wilson Jones Hole Reinforcements, Clear</td>\n",
       "      <td>3.990</td>\n",
       "      <td>1</td>\n",
       "      <td>0.000</td>\n",
       "      <td>0.420</td>\n",
       "      <td>0.490</td>\n",
       "      <td>Medium</td>\n",
       "    </tr>\n",
       "    <tr>\n",
       "      <th>51287</th>\n",
       "      <td>8857</td>\n",
       "      <td>MX-2014-110527</td>\n",
       "      <td>31-12-2014</td>\n",
       "      <td>2/1/2015</td>\n",
       "      <td>Second Class</td>\n",
       "      <td>CM-12190</td>\n",
       "      <td>Charlotte Melton</td>\n",
       "      <td>Consumer</td>\n",
       "      <td>Managua</td>\n",
       "      <td>Managua</td>\n",
       "      <td>...</td>\n",
       "      <td>OFF-LA-10004182</td>\n",
       "      <td>Office Supplies</td>\n",
       "      <td>Labels</td>\n",
       "      <td>Hon Color Coded Labels, 5000 Label Set</td>\n",
       "      <td>26.400</td>\n",
       "      <td>3</td>\n",
       "      <td>0.000</td>\n",
       "      <td>12.360</td>\n",
       "      <td>0.350</td>\n",
       "      <td>Medium</td>\n",
       "    </tr>\n",
       "    <tr>\n",
       "      <th>51288</th>\n",
       "      <td>6852</td>\n",
       "      <td>MX-2014-114783</td>\n",
       "      <td>31-12-2014</td>\n",
       "      <td>6/1/2015</td>\n",
       "      <td>Standard Class</td>\n",
       "      <td>TD-20995</td>\n",
       "      <td>Tamara Dahlen</td>\n",
       "      <td>Consumer</td>\n",
       "      <td>Juárez</td>\n",
       "      <td>Chihuahua</td>\n",
       "      <td>...</td>\n",
       "      <td>OFF-LA-10000413</td>\n",
       "      <td>Office Supplies</td>\n",
       "      <td>Labels</td>\n",
       "      <td>Hon Legal Exhibit Labels, Alphabetical</td>\n",
       "      <td>7.120</td>\n",
       "      <td>1</td>\n",
       "      <td>0.000</td>\n",
       "      <td>0.560</td>\n",
       "      <td>0.200</td>\n",
       "      <td>Medium</td>\n",
       "    </tr>\n",
       "    <tr>\n",
       "      <th>51289</th>\n",
       "      <td>36388</td>\n",
       "      <td>CA-2014-156720</td>\n",
       "      <td>31-12-2014</td>\n",
       "      <td>4/1/2015</td>\n",
       "      <td>Standard Class</td>\n",
       "      <td>JM-15580</td>\n",
       "      <td>Jill Matthias</td>\n",
       "      <td>Consumer</td>\n",
       "      <td>Loveland</td>\n",
       "      <td>Colorado</td>\n",
       "      <td>...</td>\n",
       "      <td>OFF-FA-10003472</td>\n",
       "      <td>Office Supplies</td>\n",
       "      <td>Fasteners</td>\n",
       "      <td>Bagged Rubber Bands</td>\n",
       "      <td>3.024</td>\n",
       "      <td>3</td>\n",
       "      <td>0.200</td>\n",
       "      <td>-0.605</td>\n",
       "      <td>0.170</td>\n",
       "      <td>Medium</td>\n",
       "    </tr>\n",
       "  </tbody>\n",
       "</table>\n",
       "<p>51290 rows × 24 columns</p>\n",
       "</div>"
      ],
      "text/plain": [
       "       Row ID         Order ID  Order Date Ship Date       Ship Mode  \\\n",
       "0       42433     AG-2011-2040    1/1/2011  6/1/2011  Standard Class   \n",
       "1       22253    IN-2011-47883    1/1/2011  8/1/2011  Standard Class   \n",
       "2       48883     HU-2011-1220    1/1/2011  5/1/2011    Second Class   \n",
       "3       11731  IT-2011-3647632    1/1/2011  5/1/2011    Second Class   \n",
       "4       22255    IN-2011-47883    1/1/2011  8/1/2011  Standard Class   \n",
       "...       ...              ...         ...       ...             ...   \n",
       "51285   32593   CA-2014-115427  31-12-2014  4/1/2015  Standard Class   \n",
       "51286   47594     MO-2014-2560  31-12-2014  5/1/2015  Standard Class   \n",
       "51287    8857   MX-2014-110527  31-12-2014  2/1/2015    Second Class   \n",
       "51288    6852   MX-2014-114783  31-12-2014  6/1/2015  Standard Class   \n",
       "51289   36388   CA-2014-156720  31-12-2014  4/1/2015  Standard Class   \n",
       "\n",
       "      Customer ID     Customer Name      Segment         City  \\\n",
       "0        TB-11280   Toby Braunhardt     Consumer  Constantine   \n",
       "1        JH-15985       Joseph Holt     Consumer  Wagga Wagga   \n",
       "2          AT-735     Annie Thurman     Consumer     Budapest   \n",
       "3        EM-14140      Eugene Moren  Home Office    Stockholm   \n",
       "4        JH-15985       Joseph Holt     Consumer  Wagga Wagga   \n",
       "...           ...               ...          ...          ...   \n",
       "51285    EB-13975        Erica Bern    Corporate    Fairfield   \n",
       "51286     LP-7095         Liz Preis     Consumer       Agadir   \n",
       "51287    CM-12190  Charlotte Melton     Consumer      Managua   \n",
       "51288    TD-20995     Tamara Dahlen     Consumer       Juárez   \n",
       "51289    JM-15580     Jill Matthias     Consumer     Loveland   \n",
       "\n",
       "                  State  ...        Product ID         Category Sub-Category  \\\n",
       "0           Constantine  ...  OFF-TEN-10000025  Office Supplies      Storage   \n",
       "1       New South Wales  ...   OFF-SU-10000618  Office Supplies     Supplies   \n",
       "2              Budapest  ...  OFF-TEN-10001585  Office Supplies      Storage   \n",
       "3             Stockholm  ...   OFF-PA-10001492  Office Supplies        Paper   \n",
       "4       New South Wales  ...   FUR-FU-10003447        Furniture  Furnishings   \n",
       "...                 ...  ...               ...              ...          ...   \n",
       "51285        California  ...   OFF-BI-10002103  Office Supplies      Binders   \n",
       "51286  Souss-Massa-Draâ  ...  OFF-WIL-10001069  Office Supplies      Binders   \n",
       "51287           Managua  ...   OFF-LA-10004182  Office Supplies       Labels   \n",
       "51288         Chihuahua  ...   OFF-LA-10000413  Office Supplies       Labels   \n",
       "51289          Colorado  ...   OFF-FA-10003472  Office Supplies    Fasteners   \n",
       "\n",
       "                                          Product Name   Sales Quantity  \\\n",
       "0                                  Tenex Lockers, Blue 408.300        2   \n",
       "1                             Acme Trimmer, High Speed 120.366        3   \n",
       "2                              Tenex Box, Single Width  66.120        4   \n",
       "3                          Enermax Note Cards, Premium  44.865        3   \n",
       "4                           Eldon Light Bulb, Duo Pack 113.670        5   \n",
       "...                                                ...     ...      ...   \n",
       "51285  Cardinal Slant-D Ring Binder, Heavy Gauge Vinyl  13.904        2   \n",
       "51286          Wilson Jones Hole Reinforcements, Clear   3.990        1   \n",
       "51287           Hon Color Coded Labels, 5000 Label Set  26.400        3   \n",
       "51288           Hon Legal Exhibit Labels, Alphabetical   7.120        1   \n",
       "51289                              Bagged Rubber Bands   3.024        3   \n",
       "\n",
       "      Discount  Profit  Shipping Cost  Order Priority  \n",
       "0        0.000 106.140         35.460          Medium  \n",
       "1        0.100  36.036          9.720          Medium  \n",
       "2        0.000  29.640          8.170            High  \n",
       "3        0.500 -26.055          4.820            High  \n",
       "4        0.100  37.770          4.700          Medium  \n",
       "...        ...     ...            ...             ...  \n",
       "51285    0.200   4.519          0.890          Medium  \n",
       "51286    0.000   0.420          0.490          Medium  \n",
       "51287    0.000  12.360          0.350          Medium  \n",
       "51288    0.000   0.560          0.200          Medium  \n",
       "51289    0.200  -0.605          0.170          Medium  \n",
       "\n",
       "[51290 rows x 24 columns]"
      ]
     },
     "execution_count": 5,
     "metadata": {},
     "output_type": "execute_result"
    }
   ],
   "source": [
    "data=pd.read_csv('superstore_dataset2011-2015.csv',encoding=\"iso-8859-1\")\n",
    "data"
   ]
  },
  {
   "cell_type": "markdown",
   "id": "a7619804-8c20-4f24-8b7a-6586d303bf69",
   "metadata": {},
   "source": [
    "## 1. Display Top 5 Rows of The Dataset"
   ]
  },
  {
   "cell_type": "code",
   "execution_count": 7,
   "id": "0ba46d39-db80-4b8a-8e4f-9df09638bd20",
   "metadata": {
    "tags": []
   },
   "outputs": [
    {
     "data": {
      "text/html": [
       "<div>\n",
       "<style scoped>\n",
       "    .dataframe tbody tr th:only-of-type {\n",
       "        vertical-align: middle;\n",
       "    }\n",
       "\n",
       "    .dataframe tbody tr th {\n",
       "        vertical-align: top;\n",
       "    }\n",
       "\n",
       "    .dataframe thead th {\n",
       "        text-align: right;\n",
       "    }\n",
       "</style>\n",
       "<table border=\"1\" class=\"dataframe\">\n",
       "  <thead>\n",
       "    <tr style=\"text-align: right;\">\n",
       "      <th></th>\n",
       "      <th>Row ID</th>\n",
       "      <th>Order ID</th>\n",
       "      <th>Order Date</th>\n",
       "      <th>Ship Date</th>\n",
       "      <th>Ship Mode</th>\n",
       "      <th>Customer ID</th>\n",
       "      <th>Customer Name</th>\n",
       "      <th>Segment</th>\n",
       "      <th>City</th>\n",
       "      <th>State</th>\n",
       "      <th>...</th>\n",
       "      <th>Product ID</th>\n",
       "      <th>Category</th>\n",
       "      <th>Sub-Category</th>\n",
       "      <th>Product Name</th>\n",
       "      <th>Sales</th>\n",
       "      <th>Quantity</th>\n",
       "      <th>Discount</th>\n",
       "      <th>Profit</th>\n",
       "      <th>Shipping Cost</th>\n",
       "      <th>Order Priority</th>\n",
       "    </tr>\n",
       "  </thead>\n",
       "  <tbody>\n",
       "    <tr>\n",
       "      <th>0</th>\n",
       "      <td>42433</td>\n",
       "      <td>AG-2011-2040</td>\n",
       "      <td>1/1/2011</td>\n",
       "      <td>6/1/2011</td>\n",
       "      <td>Standard Class</td>\n",
       "      <td>TB-11280</td>\n",
       "      <td>Toby Braunhardt</td>\n",
       "      <td>Consumer</td>\n",
       "      <td>Constantine</td>\n",
       "      <td>Constantine</td>\n",
       "      <td>...</td>\n",
       "      <td>OFF-TEN-10000025</td>\n",
       "      <td>Office Supplies</td>\n",
       "      <td>Storage</td>\n",
       "      <td>Tenex Lockers, Blue</td>\n",
       "      <td>408.300</td>\n",
       "      <td>2</td>\n",
       "      <td>0.000</td>\n",
       "      <td>106.140</td>\n",
       "      <td>35.460</td>\n",
       "      <td>Medium</td>\n",
       "    </tr>\n",
       "    <tr>\n",
       "      <th>1</th>\n",
       "      <td>22253</td>\n",
       "      <td>IN-2011-47883</td>\n",
       "      <td>1/1/2011</td>\n",
       "      <td>8/1/2011</td>\n",
       "      <td>Standard Class</td>\n",
       "      <td>JH-15985</td>\n",
       "      <td>Joseph Holt</td>\n",
       "      <td>Consumer</td>\n",
       "      <td>Wagga Wagga</td>\n",
       "      <td>New South Wales</td>\n",
       "      <td>...</td>\n",
       "      <td>OFF-SU-10000618</td>\n",
       "      <td>Office Supplies</td>\n",
       "      <td>Supplies</td>\n",
       "      <td>Acme Trimmer, High Speed</td>\n",
       "      <td>120.366</td>\n",
       "      <td>3</td>\n",
       "      <td>0.100</td>\n",
       "      <td>36.036</td>\n",
       "      <td>9.720</td>\n",
       "      <td>Medium</td>\n",
       "    </tr>\n",
       "    <tr>\n",
       "      <th>2</th>\n",
       "      <td>48883</td>\n",
       "      <td>HU-2011-1220</td>\n",
       "      <td>1/1/2011</td>\n",
       "      <td>5/1/2011</td>\n",
       "      <td>Second Class</td>\n",
       "      <td>AT-735</td>\n",
       "      <td>Annie Thurman</td>\n",
       "      <td>Consumer</td>\n",
       "      <td>Budapest</td>\n",
       "      <td>Budapest</td>\n",
       "      <td>...</td>\n",
       "      <td>OFF-TEN-10001585</td>\n",
       "      <td>Office Supplies</td>\n",
       "      <td>Storage</td>\n",
       "      <td>Tenex Box, Single Width</td>\n",
       "      <td>66.120</td>\n",
       "      <td>4</td>\n",
       "      <td>0.000</td>\n",
       "      <td>29.640</td>\n",
       "      <td>8.170</td>\n",
       "      <td>High</td>\n",
       "    </tr>\n",
       "    <tr>\n",
       "      <th>3</th>\n",
       "      <td>11731</td>\n",
       "      <td>IT-2011-3647632</td>\n",
       "      <td>1/1/2011</td>\n",
       "      <td>5/1/2011</td>\n",
       "      <td>Second Class</td>\n",
       "      <td>EM-14140</td>\n",
       "      <td>Eugene Moren</td>\n",
       "      <td>Home Office</td>\n",
       "      <td>Stockholm</td>\n",
       "      <td>Stockholm</td>\n",
       "      <td>...</td>\n",
       "      <td>OFF-PA-10001492</td>\n",
       "      <td>Office Supplies</td>\n",
       "      <td>Paper</td>\n",
       "      <td>Enermax Note Cards, Premium</td>\n",
       "      <td>44.865</td>\n",
       "      <td>3</td>\n",
       "      <td>0.500</td>\n",
       "      <td>-26.055</td>\n",
       "      <td>4.820</td>\n",
       "      <td>High</td>\n",
       "    </tr>\n",
       "    <tr>\n",
       "      <th>4</th>\n",
       "      <td>22255</td>\n",
       "      <td>IN-2011-47883</td>\n",
       "      <td>1/1/2011</td>\n",
       "      <td>8/1/2011</td>\n",
       "      <td>Standard Class</td>\n",
       "      <td>JH-15985</td>\n",
       "      <td>Joseph Holt</td>\n",
       "      <td>Consumer</td>\n",
       "      <td>Wagga Wagga</td>\n",
       "      <td>New South Wales</td>\n",
       "      <td>...</td>\n",
       "      <td>FUR-FU-10003447</td>\n",
       "      <td>Furniture</td>\n",
       "      <td>Furnishings</td>\n",
       "      <td>Eldon Light Bulb, Duo Pack</td>\n",
       "      <td>113.670</td>\n",
       "      <td>5</td>\n",
       "      <td>0.100</td>\n",
       "      <td>37.770</td>\n",
       "      <td>4.700</td>\n",
       "      <td>Medium</td>\n",
       "    </tr>\n",
       "  </tbody>\n",
       "</table>\n",
       "<p>5 rows × 24 columns</p>\n",
       "</div>"
      ],
      "text/plain": [
       "   Row ID         Order ID Order Date Ship Date       Ship Mode Customer ID  \\\n",
       "0   42433     AG-2011-2040   1/1/2011  6/1/2011  Standard Class    TB-11280   \n",
       "1   22253    IN-2011-47883   1/1/2011  8/1/2011  Standard Class    JH-15985   \n",
       "2   48883     HU-2011-1220   1/1/2011  5/1/2011    Second Class      AT-735   \n",
       "3   11731  IT-2011-3647632   1/1/2011  5/1/2011    Second Class    EM-14140   \n",
       "4   22255    IN-2011-47883   1/1/2011  8/1/2011  Standard Class    JH-15985   \n",
       "\n",
       "     Customer Name      Segment         City            State  ...  \\\n",
       "0  Toby Braunhardt     Consumer  Constantine      Constantine  ...   \n",
       "1      Joseph Holt     Consumer  Wagga Wagga  New South Wales  ...   \n",
       "2    Annie Thurman     Consumer     Budapest         Budapest  ...   \n",
       "3     Eugene Moren  Home Office    Stockholm        Stockholm  ...   \n",
       "4      Joseph Holt     Consumer  Wagga Wagga  New South Wales  ...   \n",
       "\n",
       "         Product ID         Category Sub-Category  \\\n",
       "0  OFF-TEN-10000025  Office Supplies      Storage   \n",
       "1   OFF-SU-10000618  Office Supplies     Supplies   \n",
       "2  OFF-TEN-10001585  Office Supplies      Storage   \n",
       "3   OFF-PA-10001492  Office Supplies        Paper   \n",
       "4   FUR-FU-10003447        Furniture  Furnishings   \n",
       "\n",
       "                  Product Name   Sales Quantity Discount  Profit  \\\n",
       "0          Tenex Lockers, Blue 408.300        2    0.000 106.140   \n",
       "1     Acme Trimmer, High Speed 120.366        3    0.100  36.036   \n",
       "2      Tenex Box, Single Width  66.120        4    0.000  29.640   \n",
       "3  Enermax Note Cards, Premium  44.865        3    0.500 -26.055   \n",
       "4   Eldon Light Bulb, Duo Pack 113.670        5    0.100  37.770   \n",
       "\n",
       "   Shipping Cost  Order Priority  \n",
       "0         35.460          Medium  \n",
       "1          9.720          Medium  \n",
       "2          8.170            High  \n",
       "3          4.820            High  \n",
       "4          4.700          Medium  \n",
       "\n",
       "[5 rows x 24 columns]"
      ]
     },
     "execution_count": 7,
     "metadata": {},
     "output_type": "execute_result"
    }
   ],
   "source": [
    "data.head()"
   ]
  },
  {
   "cell_type": "markdown",
   "id": "fa62e2ec-ee7f-4fb3-9f31-d89af0283934",
   "metadata": {},
   "source": [
    "## 2. Check The Last 5 Rows of The Dataset"
   ]
  },
  {
   "cell_type": "code",
   "execution_count": 9,
   "id": "e76eed6b-d42c-4a3a-851a-503ddf2223a4",
   "metadata": {
    "tags": []
   },
   "outputs": [
    {
     "data": {
      "text/html": [
       "<div>\n",
       "<style scoped>\n",
       "    .dataframe tbody tr th:only-of-type {\n",
       "        vertical-align: middle;\n",
       "    }\n",
       "\n",
       "    .dataframe tbody tr th {\n",
       "        vertical-align: top;\n",
       "    }\n",
       "\n",
       "    .dataframe thead th {\n",
       "        text-align: right;\n",
       "    }\n",
       "</style>\n",
       "<table border=\"1\" class=\"dataframe\">\n",
       "  <thead>\n",
       "    <tr style=\"text-align: right;\">\n",
       "      <th></th>\n",
       "      <th>Row ID</th>\n",
       "      <th>Order ID</th>\n",
       "      <th>Order Date</th>\n",
       "      <th>Ship Date</th>\n",
       "      <th>Ship Mode</th>\n",
       "      <th>Customer ID</th>\n",
       "      <th>Customer Name</th>\n",
       "      <th>Segment</th>\n",
       "      <th>City</th>\n",
       "      <th>State</th>\n",
       "      <th>...</th>\n",
       "      <th>Product ID</th>\n",
       "      <th>Category</th>\n",
       "      <th>Sub-Category</th>\n",
       "      <th>Product Name</th>\n",
       "      <th>Sales</th>\n",
       "      <th>Quantity</th>\n",
       "      <th>Discount</th>\n",
       "      <th>Profit</th>\n",
       "      <th>Shipping Cost</th>\n",
       "      <th>Order Priority</th>\n",
       "    </tr>\n",
       "  </thead>\n",
       "  <tbody>\n",
       "    <tr>\n",
       "      <th>51285</th>\n",
       "      <td>32593</td>\n",
       "      <td>CA-2014-115427</td>\n",
       "      <td>31-12-2014</td>\n",
       "      <td>4/1/2015</td>\n",
       "      <td>Standard Class</td>\n",
       "      <td>EB-13975</td>\n",
       "      <td>Erica Bern</td>\n",
       "      <td>Corporate</td>\n",
       "      <td>Fairfield</td>\n",
       "      <td>California</td>\n",
       "      <td>...</td>\n",
       "      <td>OFF-BI-10002103</td>\n",
       "      <td>Office Supplies</td>\n",
       "      <td>Binders</td>\n",
       "      <td>Cardinal Slant-D Ring Binder, Heavy Gauge Vinyl</td>\n",
       "      <td>13.904</td>\n",
       "      <td>2</td>\n",
       "      <td>0.200</td>\n",
       "      <td>4.519</td>\n",
       "      <td>0.890</td>\n",
       "      <td>Medium</td>\n",
       "    </tr>\n",
       "    <tr>\n",
       "      <th>51286</th>\n",
       "      <td>47594</td>\n",
       "      <td>MO-2014-2560</td>\n",
       "      <td>31-12-2014</td>\n",
       "      <td>5/1/2015</td>\n",
       "      <td>Standard Class</td>\n",
       "      <td>LP-7095</td>\n",
       "      <td>Liz Preis</td>\n",
       "      <td>Consumer</td>\n",
       "      <td>Agadir</td>\n",
       "      <td>Souss-Massa-Draâ</td>\n",
       "      <td>...</td>\n",
       "      <td>OFF-WIL-10001069</td>\n",
       "      <td>Office Supplies</td>\n",
       "      <td>Binders</td>\n",
       "      <td>Wilson Jones Hole Reinforcements, Clear</td>\n",
       "      <td>3.990</td>\n",
       "      <td>1</td>\n",
       "      <td>0.000</td>\n",
       "      <td>0.420</td>\n",
       "      <td>0.490</td>\n",
       "      <td>Medium</td>\n",
       "    </tr>\n",
       "    <tr>\n",
       "      <th>51287</th>\n",
       "      <td>8857</td>\n",
       "      <td>MX-2014-110527</td>\n",
       "      <td>31-12-2014</td>\n",
       "      <td>2/1/2015</td>\n",
       "      <td>Second Class</td>\n",
       "      <td>CM-12190</td>\n",
       "      <td>Charlotte Melton</td>\n",
       "      <td>Consumer</td>\n",
       "      <td>Managua</td>\n",
       "      <td>Managua</td>\n",
       "      <td>...</td>\n",
       "      <td>OFF-LA-10004182</td>\n",
       "      <td>Office Supplies</td>\n",
       "      <td>Labels</td>\n",
       "      <td>Hon Color Coded Labels, 5000 Label Set</td>\n",
       "      <td>26.400</td>\n",
       "      <td>3</td>\n",
       "      <td>0.000</td>\n",
       "      <td>12.360</td>\n",
       "      <td>0.350</td>\n",
       "      <td>Medium</td>\n",
       "    </tr>\n",
       "    <tr>\n",
       "      <th>51288</th>\n",
       "      <td>6852</td>\n",
       "      <td>MX-2014-114783</td>\n",
       "      <td>31-12-2014</td>\n",
       "      <td>6/1/2015</td>\n",
       "      <td>Standard Class</td>\n",
       "      <td>TD-20995</td>\n",
       "      <td>Tamara Dahlen</td>\n",
       "      <td>Consumer</td>\n",
       "      <td>Juárez</td>\n",
       "      <td>Chihuahua</td>\n",
       "      <td>...</td>\n",
       "      <td>OFF-LA-10000413</td>\n",
       "      <td>Office Supplies</td>\n",
       "      <td>Labels</td>\n",
       "      <td>Hon Legal Exhibit Labels, Alphabetical</td>\n",
       "      <td>7.120</td>\n",
       "      <td>1</td>\n",
       "      <td>0.000</td>\n",
       "      <td>0.560</td>\n",
       "      <td>0.200</td>\n",
       "      <td>Medium</td>\n",
       "    </tr>\n",
       "    <tr>\n",
       "      <th>51289</th>\n",
       "      <td>36388</td>\n",
       "      <td>CA-2014-156720</td>\n",
       "      <td>31-12-2014</td>\n",
       "      <td>4/1/2015</td>\n",
       "      <td>Standard Class</td>\n",
       "      <td>JM-15580</td>\n",
       "      <td>Jill Matthias</td>\n",
       "      <td>Consumer</td>\n",
       "      <td>Loveland</td>\n",
       "      <td>Colorado</td>\n",
       "      <td>...</td>\n",
       "      <td>OFF-FA-10003472</td>\n",
       "      <td>Office Supplies</td>\n",
       "      <td>Fasteners</td>\n",
       "      <td>Bagged Rubber Bands</td>\n",
       "      <td>3.024</td>\n",
       "      <td>3</td>\n",
       "      <td>0.200</td>\n",
       "      <td>-0.605</td>\n",
       "      <td>0.170</td>\n",
       "      <td>Medium</td>\n",
       "    </tr>\n",
       "  </tbody>\n",
       "</table>\n",
       "<p>5 rows × 24 columns</p>\n",
       "</div>"
      ],
      "text/plain": [
       "       Row ID        Order ID  Order Date Ship Date       Ship Mode  \\\n",
       "51285   32593  CA-2014-115427  31-12-2014  4/1/2015  Standard Class   \n",
       "51286   47594    MO-2014-2560  31-12-2014  5/1/2015  Standard Class   \n",
       "51287    8857  MX-2014-110527  31-12-2014  2/1/2015    Second Class   \n",
       "51288    6852  MX-2014-114783  31-12-2014  6/1/2015  Standard Class   \n",
       "51289   36388  CA-2014-156720  31-12-2014  4/1/2015  Standard Class   \n",
       "\n",
       "      Customer ID     Customer Name    Segment       City             State  \\\n",
       "51285    EB-13975        Erica Bern  Corporate  Fairfield        California   \n",
       "51286     LP-7095         Liz Preis   Consumer     Agadir  Souss-Massa-Draâ   \n",
       "51287    CM-12190  Charlotte Melton   Consumer    Managua           Managua   \n",
       "51288    TD-20995     Tamara Dahlen   Consumer     Juárez         Chihuahua   \n",
       "51289    JM-15580     Jill Matthias   Consumer   Loveland          Colorado   \n",
       "\n",
       "       ...        Product ID         Category Sub-Category  \\\n",
       "51285  ...   OFF-BI-10002103  Office Supplies      Binders   \n",
       "51286  ...  OFF-WIL-10001069  Office Supplies      Binders   \n",
       "51287  ...   OFF-LA-10004182  Office Supplies       Labels   \n",
       "51288  ...   OFF-LA-10000413  Office Supplies       Labels   \n",
       "51289  ...   OFF-FA-10003472  Office Supplies    Fasteners   \n",
       "\n",
       "                                          Product Name  Sales Quantity  \\\n",
       "51285  Cardinal Slant-D Ring Binder, Heavy Gauge Vinyl 13.904        2   \n",
       "51286          Wilson Jones Hole Reinforcements, Clear  3.990        1   \n",
       "51287           Hon Color Coded Labels, 5000 Label Set 26.400        3   \n",
       "51288           Hon Legal Exhibit Labels, Alphabetical  7.120        1   \n",
       "51289                              Bagged Rubber Bands  3.024        3   \n",
       "\n",
       "      Discount Profit  Shipping Cost  Order Priority  \n",
       "51285    0.200  4.519          0.890          Medium  \n",
       "51286    0.000  0.420          0.490          Medium  \n",
       "51287    0.000 12.360          0.350          Medium  \n",
       "51288    0.000  0.560          0.200          Medium  \n",
       "51289    0.200 -0.605          0.170          Medium  \n",
       "\n",
       "[5 rows x 24 columns]"
      ]
     },
     "execution_count": 9,
     "metadata": {},
     "output_type": "execute_result"
    }
   ],
   "source": [
    "data.tail()"
   ]
  },
  {
   "cell_type": "markdown",
   "id": "7170cede-2072-4bcb-8550-410a11b41c72",
   "metadata": {},
   "source": [
    "## 3. Find Shape of Our Dataset (Number of Rows And Number of Columns)"
   ]
  },
  {
   "cell_type": "code",
   "execution_count": 10,
   "id": "dc5e265d-e093-490e-ba7a-4f3bc2a26d85",
   "metadata": {},
   "outputs": [
    {
     "name": "stdout",
     "output_type": "stream",
     "text": [
      "Number of Rows: 51290\n",
      "Number of Columns 24\n"
     ]
    }
   ],
   "source": [
    "print(\"Number of Rows:\",data.shape[0])\n",
    "print(\"Number of Columns\",data.shape[1])"
   ]
  },
  {
   "cell_type": "markdown",
   "id": "6da56dfb-b74d-4b6d-83a8-e5a64b5472a0",
   "metadata": {},
   "source": [
    "## 4.  Get Information About Our Dataset Like Total Number Rows, Total Number of Columns, Datatypes of Each Column And Memory Requirement"
   ]
  },
  {
   "cell_type": "code",
   "execution_count": 11,
   "id": "51b822c3-d0a2-4400-baae-32f429447ccb",
   "metadata": {
    "tags": []
   },
   "outputs": [
    {
     "name": "stdout",
     "output_type": "stream",
     "text": [
      "<class 'pandas.core.frame.DataFrame'>\n",
      "RangeIndex: 51290 entries, 0 to 51289\n",
      "Data columns (total 24 columns):\n",
      " #   Column          Non-Null Count  Dtype  \n",
      "---  ------          --------------  -----  \n",
      " 0   Row ID          51290 non-null  int64  \n",
      " 1   Order ID        51290 non-null  object \n",
      " 2   Order Date      51290 non-null  object \n",
      " 3   Ship Date       51290 non-null  object \n",
      " 4   Ship Mode       51290 non-null  object \n",
      " 5   Customer ID     51290 non-null  object \n",
      " 6   Customer Name   51290 non-null  object \n",
      " 7   Segment         51290 non-null  object \n",
      " 8   City            51290 non-null  object \n",
      " 9   State           51290 non-null  object \n",
      " 10  Country         51290 non-null  object \n",
      " 11  Postal Code     9994 non-null   float64\n",
      " 12  Market          51290 non-null  object \n",
      " 13  Region          51290 non-null  object \n",
      " 14  Product ID      51290 non-null  object \n",
      " 15  Category        51290 non-null  object \n",
      " 16  Sub-Category    51290 non-null  object \n",
      " 17  Product Name    51290 non-null  object \n",
      " 18  Sales           51290 non-null  float64\n",
      " 19  Quantity        51290 non-null  int64  \n",
      " 20  Discount        51290 non-null  float64\n",
      " 21  Profit          51290 non-null  float64\n",
      " 22  Shipping Cost   51290 non-null  float64\n",
      " 23  Order Priority  51290 non-null  object \n",
      "dtypes: float64(5), int64(2), object(17)\n",
      "memory usage: 9.4+ MB\n"
     ]
    }
   ],
   "source": [
    "data.info()"
   ]
  },
  {
   "cell_type": "markdown",
   "id": "bb2daa9c-af3c-44e7-b69b-9847f72fa177",
   "metadata": {},
   "source": [
    "## 5. Check Null Values In The Dataset"
   ]
  },
  {
   "cell_type": "code",
   "execution_count": 12,
   "id": "22e84f4b-3622-45bb-8752-c62d0e4310e2",
   "metadata": {
    "tags": []
   },
   "outputs": [
    {
     "data": {
      "text/plain": [
       "Row ID                0\n",
       "Order ID              0\n",
       "Order Date            0\n",
       "Ship Date             0\n",
       "Ship Mode             0\n",
       "Customer ID           0\n",
       "Customer Name         0\n",
       "Segment               0\n",
       "City                  0\n",
       "State                 0\n",
       "Country               0\n",
       "Postal Code       41296\n",
       "Market                0\n",
       "Region                0\n",
       "Product ID            0\n",
       "Category              0\n",
       "Sub-Category          0\n",
       "Product Name          0\n",
       "Sales                 0\n",
       "Quantity              0\n",
       "Discount              0\n",
       "Profit                0\n",
       "Shipping Cost         0\n",
       "Order Priority        0\n",
       "dtype: int64"
      ]
     },
     "execution_count": 12,
     "metadata": {},
     "output_type": "execute_result"
    }
   ],
   "source": [
    "data.isnull().sum()"
   ]
  },
  {
   "cell_type": "markdown",
   "id": "fc8c4cd2-d7f3-4039-ba03-ad7246b537d6",
   "metadata": {},
   "source": [
    "## 6. Check For Duplicate Data and Drop Them"
   ]
  },
  {
   "cell_type": "code",
   "execution_count": 13,
   "id": "d4f4ecff-4582-42bd-8af2-a0d174538566",
   "metadata": {},
   "outputs": [
    {
     "data": {
      "text/plain": [
       "0"
      ]
     },
     "execution_count": 13,
     "metadata": {},
     "output_type": "execute_result"
    }
   ],
   "source": [
    "data.duplicated().sum()"
   ]
  },
  {
   "cell_type": "code",
   "execution_count": 14,
   "id": "d839b092-6bd8-4d6f-9849-23b6e83d0be1",
   "metadata": {},
   "outputs": [
    {
     "data": {
      "text/plain": [
       "False"
      ]
     },
     "execution_count": 14,
     "metadata": {},
     "output_type": "execute_result"
    }
   ],
   "source": [
    "data.duplicated().any()"
   ]
  },
  {
   "cell_type": "markdown",
   "id": "917718a5-e335-4b25-848c-5a95e11765f0",
   "metadata": {},
   "source": [
    "## 7 .Get Overall Statistics About The Dataset"
   ]
  },
  {
   "cell_type": "code",
   "execution_count": 15,
   "id": "121a06e9-8581-46c5-8617-bea1a5d66b2f",
   "metadata": {},
   "outputs": [
    {
     "data": {
      "text/html": [
       "<div>\n",
       "<style scoped>\n",
       "    .dataframe tbody tr th:only-of-type {\n",
       "        vertical-align: middle;\n",
       "    }\n",
       "\n",
       "    .dataframe tbody tr th {\n",
       "        vertical-align: top;\n",
       "    }\n",
       "\n",
       "    .dataframe thead th {\n",
       "        text-align: right;\n",
       "    }\n",
       "</style>\n",
       "<table border=\"1\" class=\"dataframe\">\n",
       "  <thead>\n",
       "    <tr style=\"text-align: right;\">\n",
       "      <th></th>\n",
       "      <th>Row ID</th>\n",
       "      <th>Postal Code</th>\n",
       "      <th>Sales</th>\n",
       "      <th>Quantity</th>\n",
       "      <th>Discount</th>\n",
       "      <th>Profit</th>\n",
       "      <th>Shipping Cost</th>\n",
       "    </tr>\n",
       "  </thead>\n",
       "  <tbody>\n",
       "    <tr>\n",
       "      <th>count</th>\n",
       "      <td>51290.000</td>\n",
       "      <td>9994.000</td>\n",
       "      <td>51290.000</td>\n",
       "      <td>51290.000</td>\n",
       "      <td>51290.000</td>\n",
       "      <td>51290.000</td>\n",
       "      <td>51290.000</td>\n",
       "    </tr>\n",
       "    <tr>\n",
       "      <th>mean</th>\n",
       "      <td>25645.500</td>\n",
       "      <td>55190.379</td>\n",
       "      <td>246.491</td>\n",
       "      <td>3.477</td>\n",
       "      <td>0.143</td>\n",
       "      <td>28.611</td>\n",
       "      <td>26.376</td>\n",
       "    </tr>\n",
       "    <tr>\n",
       "      <th>std</th>\n",
       "      <td>14806.292</td>\n",
       "      <td>32063.693</td>\n",
       "      <td>487.565</td>\n",
       "      <td>2.279</td>\n",
       "      <td>0.212</td>\n",
       "      <td>174.341</td>\n",
       "      <td>57.297</td>\n",
       "    </tr>\n",
       "    <tr>\n",
       "      <th>min</th>\n",
       "      <td>1.000</td>\n",
       "      <td>1040.000</td>\n",
       "      <td>0.444</td>\n",
       "      <td>1.000</td>\n",
       "      <td>0.000</td>\n",
       "      <td>-6599.978</td>\n",
       "      <td>0.000</td>\n",
       "    </tr>\n",
       "    <tr>\n",
       "      <th>25%</th>\n",
       "      <td>12823.250</td>\n",
       "      <td>23223.000</td>\n",
       "      <td>30.759</td>\n",
       "      <td>2.000</td>\n",
       "      <td>0.000</td>\n",
       "      <td>0.000</td>\n",
       "      <td>2.610</td>\n",
       "    </tr>\n",
       "    <tr>\n",
       "      <th>50%</th>\n",
       "      <td>25645.500</td>\n",
       "      <td>56430.500</td>\n",
       "      <td>85.053</td>\n",
       "      <td>3.000</td>\n",
       "      <td>0.000</td>\n",
       "      <td>9.240</td>\n",
       "      <td>7.790</td>\n",
       "    </tr>\n",
       "    <tr>\n",
       "      <th>75%</th>\n",
       "      <td>38467.750</td>\n",
       "      <td>90008.000</td>\n",
       "      <td>251.053</td>\n",
       "      <td>5.000</td>\n",
       "      <td>0.200</td>\n",
       "      <td>36.810</td>\n",
       "      <td>24.450</td>\n",
       "    </tr>\n",
       "    <tr>\n",
       "      <th>max</th>\n",
       "      <td>51290.000</td>\n",
       "      <td>99301.000</td>\n",
       "      <td>22638.480</td>\n",
       "      <td>14.000</td>\n",
       "      <td>0.850</td>\n",
       "      <td>8399.976</td>\n",
       "      <td>933.570</td>\n",
       "    </tr>\n",
       "  </tbody>\n",
       "</table>\n",
       "</div>"
      ],
      "text/plain": [
       "         Row ID  Postal Code     Sales  Quantity  Discount    Profit  \\\n",
       "count 51290.000     9994.000 51290.000 51290.000 51290.000 51290.000   \n",
       "mean  25645.500    55190.379   246.491     3.477     0.143    28.611   \n",
       "std   14806.292    32063.693   487.565     2.279     0.212   174.341   \n",
       "min       1.000     1040.000     0.444     1.000     0.000 -6599.978   \n",
       "25%   12823.250    23223.000    30.759     2.000     0.000     0.000   \n",
       "50%   25645.500    56430.500    85.053     3.000     0.000     9.240   \n",
       "75%   38467.750    90008.000   251.053     5.000     0.200    36.810   \n",
       "max   51290.000    99301.000 22638.480    14.000     0.850  8399.976   \n",
       "\n",
       "       Shipping Cost  \n",
       "count      51290.000  \n",
       "mean          26.376  \n",
       "std           57.297  \n",
       "min            0.000  \n",
       "25%            2.610  \n",
       "50%            7.790  \n",
       "75%           24.450  \n",
       "max          933.570  "
      ]
     },
     "execution_count": 15,
     "metadata": {},
     "output_type": "execute_result"
    }
   ],
   "source": [
    "data.describe()"
   ]
  },
  {
   "cell_type": "markdown",
   "id": "c98364c5-baa2-4145-91cc-ce031be47481",
   "metadata": {},
   "source": [
    "## 8. Drop unnecessary columns"
   ]
  },
  {
   "cell_type": "code",
   "execution_count": 16,
   "id": "ffffd1a8-2068-4872-9dc2-ac9353e5670d",
   "metadata": {},
   "outputs": [
    {
     "data": {
      "text/plain": [
       "Index(['Row ID', 'Order ID', 'Order Date', 'Ship Date', 'Ship Mode',\n",
       "       'Customer ID', 'Customer Name', 'Segment', 'City', 'State', 'Country',\n",
       "       'Postal Code', 'Market', 'Region', 'Product ID', 'Category',\n",
       "       'Sub-Category', 'Product Name', 'Sales', 'Quantity', 'Discount',\n",
       "       'Profit', 'Shipping Cost', 'Order Priority'],\n",
       "      dtype='object')"
      ]
     },
     "execution_count": 16,
     "metadata": {},
     "output_type": "execute_result"
    }
   ],
   "source": [
    "data.columns"
   ]
  },
  {
   "cell_type": "code",
   "execution_count": 17,
   "id": "f4a15734-8103-456f-bbf7-104c83880da5",
   "metadata": {},
   "outputs": [],
   "source": [
    "data=data.drop(['Row ID','Order ID','Customer ID','Postal Code'], axis =1)"
   ]
  },
  {
   "cell_type": "code",
   "execution_count": 18,
   "id": "05074a73-9952-422e-a317-5902ae796f42",
   "metadata": {},
   "outputs": [
    {
     "data": {
      "text/plain": [
       "Index(['Order Date', 'Ship Date', 'Ship Mode', 'Customer Name', 'Segment',\n",
       "       'City', 'State', 'Country', 'Market', 'Region', 'Product ID',\n",
       "       'Category', 'Sub-Category', 'Product Name', 'Sales', 'Quantity',\n",
       "       'Discount', 'Profit', 'Shipping Cost', 'Order Priority'],\n",
       "      dtype='object')"
      ]
     },
     "execution_count": 18,
     "metadata": {},
     "output_type": "execute_result"
    }
   ],
   "source": [
    "data.columns"
   ]
  },
  {
   "cell_type": "markdown",
   "id": "5698436d-939f-486a-abd7-58d65cd4b370",
   "metadata": {},
   "source": [
    "# Hypothesis"
   ]
  },
  {
   "cell_type": "markdown",
   "id": "4c257d79-ce22-4817-ba78-3ba85c61b9cd",
   "metadata": {},
   "source": [
    "## Hypothesis 1: Technology products have the highest profit margin compared to other product categories."
   ]
  },
  {
   "cell_type": "code",
   "execution_count": 19,
   "id": "8ff24c80-ce99-4a66-bda5-d5f6246b6faa",
   "metadata": {},
   "outputs": [
    {
     "data": {
      "text/plain": [
       "Index(['Order Date', 'Ship Date', 'Ship Mode', 'Customer Name', 'Segment',\n",
       "       'City', 'State', 'Country', 'Market', 'Region', 'Product ID',\n",
       "       'Category', 'Sub-Category', 'Product Name', 'Sales', 'Quantity',\n",
       "       'Discount', 'Profit', 'Shipping Cost', 'Order Priority'],\n",
       "      dtype='object')"
      ]
     },
     "execution_count": 19,
     "metadata": {},
     "output_type": "execute_result"
    }
   ],
   "source": [
    "data.columns"
   ]
  },
  {
   "cell_type": "code",
   "execution_count": 24,
   "id": "b1df2308-e185-4318-83fd-e48a050721db",
   "metadata": {},
   "outputs": [
    {
     "data": {
      "image/png": "[encoded data removed]",
      "text/plain": [
       "<Figure size 640x480 with 1 Axes>"
      ]
     },
     "metadata": {},
     "output_type": "display_data"
    }
   ],
   "source": [
    "cat_profit=data.groupby('Category')['Profit'].sum()\n",
    "cat_profit.plot(kind=\"bar\")\n",
    "plt.title(\"Profit By Category\")\n",
    "plt.xlabel(\"Category\")\n",
    "plt.ylabel(\"Total Profit\")\n",
    "plt.show()\n",
    "# Conclusion : The hyphotesis is supported as technology products have the \n",
    "# higest profit margin of the three categories"
   ]
  },
  {
   "cell_type": "markdown",
   "id": "1ea13488-744c-4402-a0d1-4916a8dfcfd4",
   "metadata": {},
   "source": [
    "## Hypothesis 2: The East region has the highest sales compared to other regions."
   ]
  },
  {
   "cell_type": "code",
   "execution_count": 31,
   "id": "fc198bda-836a-4b16-a498-e9467120f20a",
   "metadata": {},
   "outputs": [
    {
     "data": {
      "text/plain": [
       "Index(['Order Date', 'Ship Date', 'Ship Mode', 'Customer Name', 'Segment',\n",
       "       'City', 'State', 'Country', 'Market', 'Region', 'Product ID',\n",
       "       'Category', 'Sub-Category', 'Product Name', 'Sales', 'Quantity',\n",
       "       'Discount', 'Profit', 'Shipping Cost', 'Order Priority'],\n",
       "      dtype='object')"
      ]
     },
     "execution_count": 31,
     "metadata": {},
     "output_type": "execute_result"
    }
   ],
   "source": [
    "data.columns"
   ]
  },
  {
   "cell_type": "code",
   "execution_count": 27,
   "id": "c5ad5b8e-b117-4ad6-acb7-03addd2be660",
   "metadata": {},
   "outputs": [
    {
     "data": {
      "image/png": "[encoded data removed]",
      "text/plain": [
       "<Figure size 640x480 with 1 Axes>"
      ]
     },
     "metadata": {},
     "output_type": "display_data"
    }
   ],
   "source": [
    "reg_sales=data.groupby('Region')['Sales'].sum()\n",
    "reg_sales.plot(kind=\"bar\")\n",
    "plt.title(\"Total Sales by Region\")\n",
    "plt.xlabel(\"Region\")\n",
    "plt.ylabel(\"Total Sales\")\n",
    "plt.show()\n",
    "# conclusion: The hypothesis is not supported as the central region has the\n",
    "# highest sales"
   ]
  },
  {
   "cell_type": "markdown",
   "id": "a471678f-ac9a-429e-93d8-6c46e57d5868",
   "metadata": {},
   "source": [
    "## Hypothesis 3: Sales are higher during certain months of the year."
   ]
  },
  {
   "cell_type": "code",
   "execution_count": 29,
   "id": "557ed04c-00d4-4d4e-9e35-fb2579a319f0",
   "metadata": {},
   "outputs": [
    {
     "data": {
      "text/plain": [
       "Index(['Order Date', 'Ship Date', 'Ship Mode', 'Customer Name', 'Segment',\n",
       "       'City', 'State', 'Country', 'Market', 'Region', 'Product ID',\n",
       "       'Category', 'Sub-Category', 'Product Name', 'Sales', 'Quantity',\n",
       "       'Discount', 'Profit', 'Shipping Cost', 'Order Priority'],\n",
       "      dtype='object')"
      ]
     },
     "execution_count": 29,
     "metadata": {},
     "output_type": "execute_result"
    }
   ],
   "source": [
    "data.columns"
   ]
  },
  {
   "cell_type": "code",
   "execution_count": 45,
   "id": "8d7637fd-d1df-4e48-b5a6-6f6c0c266dab",
   "metadata": {},
   "outputs": [],
   "source": [
    "data['Order Month']=pd.DatetimeIndex(data['Order Date']).month\n",
    "#Use DatetimeIndex when the type of the columns is object"
   ]
  },
  {
   "cell_type": "code",
   "execution_count": 33,
   "id": "135ad74c-5ad5-4bef-b1d2-cac2ffca43b9",
   "metadata": {},
   "outputs": [
    {
     "data": {
      "image/png": "[encoded data removed]",
      "text/plain": [
       "<Figure size 640x480 with 1 Axes>"
      ]
     },
     "metadata": {},
     "output_type": "display_data"
    }
   ],
   "source": [
    "month_sales=data.groupby('Order Month')['Sales'].sum()\n",
    "month_sales.plot(kind='line')\n",
    "plt.title(\"Total Sales by Month\")\n",
    "plt.xlabel(\"Month\")\n",
    "plt.ylabel(\"Total Sales\")\n",
    "plt.show()\n",
    "# Conclusion : Our hypothesis is supported as sales are higher during\n",
    "# certain months of the year."
   ]
  },
  {
   "cell_type": "markdown",
   "id": "1dab099b-d540-4676-9590-2a475677e993",
   "metadata": {},
   "source": [
    "## Hypothesis 4: Orders with same-day shipping have the lowest rate of returned products."
   ]
  },
  {
   "cell_type": "code",
   "execution_count": 34,
   "id": "ec26eb9f-249e-42ad-84ed-752c381270ae",
   "metadata": {},
   "outputs": [
    {
     "data": {
      "text/plain": [
       "Index(['Order Date', 'Ship Date', 'Ship Mode', 'Customer Name', 'Segment',\n",
       "       'City', 'State', 'Country', 'Market', 'Region', 'Product ID',\n",
       "       'Category', 'Sub-Category', 'Product Name', 'Sales', 'Quantity',\n",
       "       'Discount', 'Profit', 'Shipping Cost', 'Order Priority', 'Order Month'],\n",
       "      dtype='object')"
      ]
     },
     "execution_count": 34,
     "metadata": {},
     "output_type": "execute_result"
    }
   ],
   "source": [
    "data.columns"
   ]
  },
  {
   "cell_type": "code",
   "execution_count": 38,
   "id": "5a72eead-a124-4924-87fd-33925b9af3d5",
   "metadata": {},
   "outputs": [
    {
     "data": {
      "text/plain": [
       "0       106.140\n",
       "1        36.036\n",
       "2        29.640\n",
       "3       -26.055\n",
       "4        37.770\n",
       "          ...  \n",
       "51285     4.519\n",
       "51286     0.420\n",
       "51287    12.360\n",
       "51288     0.560\n",
       "51289    -0.605\n",
       "Name: Profit, Length: 51290, dtype: float64"
      ]
     },
     "execution_count": 38,
     "metadata": {},
     "output_type": "execute_result"
    }
   ],
   "source": [
    "data['Profit']"
   ]
  },
  {
   "cell_type": "code",
   "execution_count": 36,
   "id": "40209426-56a7-497f-b57d-33a39cf54678",
   "metadata": {},
   "outputs": [],
   "source": [
    "total_orders_by_shipping_mode=data.groupby('Ship Mode').size()"
   ]
  },
  {
   "cell_type": "code",
   "execution_count": 39,
   "id": "5dd08fd4-9ca8-4891-be7c-033dc75602a2",
   "metadata": {},
   "outputs": [],
   "source": [
    "returned_orders_by_shipping_mode=data[data['Profit']<0].groupby('Ship Mode').size()"
   ]
  },
  {
   "cell_type": "code",
   "execution_count": 41,
   "id": "019f9b54-0139-47a6-8840-b07f148d21b0",
   "metadata": {},
   "outputs": [
    {
     "name": "stdout",
     "output_type": "stream",
     "text": [
      "Ship Mode\n",
      "First Class      25.077\n",
      "Same Day         23.917\n",
      "Second Class     24.076\n",
      "Standard Class   24.481\n",
      "dtype: float64\n"
     ]
    }
   ],
   "source": [
    "returned_per_by_shipping_mode=(returned_orders_by_shipping_mode/total_orders_by_shipping_mode)*100\n",
    "print(returned_per_by_shipping_mode)"
   ]
  },
  {
   "cell_type": "code",
   "execution_count": 43,
   "id": "e4e777c3-5c5b-40e8-98b0-913b51919f92",
   "metadata": {},
   "outputs": [
    {
     "data": {
      "image/png": "[encoded data removed]",
      "text/plain": [
       "<Figure size 640x480 with 1 Axes>"
      ]
     },
     "metadata": {},
     "output_type": "display_data"
    }
   ],
   "source": [
    "returned_per_by_shipping_mode.plot(kind=\"bar\")\n",
    "plt.title(\"Return Per By Shipping Mode\")\n",
    "plt.xlabel(\"Shipping Mode\")\n",
    "plt.ylabel(\"Return Percentage\")\n",
    "plt.show()\n",
    "# Conclusion: The hypothesis is supported as orders with same-day\n",
    "# shipping have the lowest return rate of the product"
   ]
  },
  {
   "cell_type": "markdown",
   "id": "ad81e424-1772-4ae6-8355-b7aa02492b86",
   "metadata": {},
   "source": [
    "## Hypothesis 5: The company's profit is more on weekdays than on weekends."
   ]
  },
  {
   "cell_type": "code",
   "execution_count": 44,
   "id": "85edb07e-d3a0-4930-9640-50d4b3b84337",
   "metadata": {},
   "outputs": [
    {
     "data": {
      "text/plain": [
       "Index(['Order Date', 'Ship Date', 'Ship Mode', 'Customer Name', 'Segment',\n",
       "       'City', 'State', 'Country', 'Market', 'Region', 'Product ID',\n",
       "       'Category', 'Sub-Category', 'Product Name', 'Sales', 'Quantity',\n",
       "       'Discount', 'Profit', 'Shipping Cost', 'Order Priority', 'Order Month'],\n",
       "      dtype='object')"
      ]
     },
     "execution_count": 44,
     "metadata": {},
     "output_type": "execute_result"
    }
   ],
   "source": [
    "data.columns"
   ]
  },
  {
   "cell_type": "code",
   "execution_count": 47,
   "id": "08d4625b-2ebc-4005-987c-d09052a4952e",
   "metadata": {},
   "outputs": [],
   "source": [
    "data['Order Day']=pd.DatetimeIndex(data['Order Date']).day_name()"
   ]
  },
  {
   "cell_type": "code",
   "execution_count": 49,
   "id": "d7933390-ead4-4545-ad79-1fbe74ca6dbf",
   "metadata": {},
   "outputs": [
    {
     "data": {
      "image/png": "[encoded data removed]",
      "text/plain": [
       "<Figure size 640x480 with 1 Axes>"
      ]
     },
     "metadata": {},
     "output_type": "display_data"
    }
   ],
   "source": [
    "day_profit=data.groupby('Order Day')['Profit'].sum()\n",
    "day_profit.plot(kind=\"bar\")\n",
    "plt.title(\"Total profit by the day of the week\")\n",
    "plt.xlabel(\"Day of the week\")\n",
    "plt.ylabel(\"Total profit\")\n",
    "plt.show()\n",
    "# conclusion : The hypothesis is supported as company's profit\n",
    "# is higher on weekdays compared to weekends"
   ]
  },
  {
   "cell_type": "code",
   "execution_count": null,
   "id": "6eeb55c1-88f1-438b-8b4f-b7d7f550463d",
   "metadata": {},
   "outputs": [],
   "source": []
  }
 ],
 "metadata": {
  "kernelspec": {
   "display_name": "Python 3 (ipykernel)",
   "language": "python",
   "name": "python3"
  },
  "language_info": {
   "codemirror_mode": {
    "name": "ipython",
    "version": 3
   },
   "file_extension": ".py",
   "mimetype": "text/x-python",
   "name": "python",
   "nbconvert_exporter": "python",
   "pygments_lexer": "ipython3",
   "version": "3.9.13"
  }
 },
 "nbformat": 4,
 "nbformat_minor": 5
}
